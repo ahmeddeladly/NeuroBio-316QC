{
 "cells": [
  {
   "cell_type": "markdown",
   "metadata": {
    "id": "XzRoYA68PlRR"
   },
   "source": [
    "# Exercise 3: Gaussian Process Factor Analysis (GPFA)\n",
    "\n",
    "> The neural data have been generously provided by the laboratory of Prof. Krishna Shenoy at Stanford University. The data are to be used exclusively for educational purposes in this course.\n",
    "\n",
    "\n",
    "This exercise has a few parts that will help you develop an intuition for how GPFA works.\n",
    "\n",
    "**Section 1**: You will generate some synthetic data and then fit the parameters of a GPFA model to your synthetic data to see how well GPFA performs at discovering the true parameters underlying your data.\n",
    "The synthetic data will come from you using a Gaussian Process to simulate the trajectory of a 1-dimensional latent state over time, and then generating activity traces for a few neurons that are modulated by the value of the latent state.\n",
    "\n",
    "**Section 2**: You will investigate more complex simulated data driven by a higher dimensional latent space.\n",
    "We'll look at how to determine the dimensionality of the latent space and how predicted latent states compare to the true ones. \n",
    "\n",
    "**Section 3**: You will perform a set of analysis steps very similar to what was done in [1] (the paper we read for Session 7, which develops GPFA), but using a different dataset.\n",
    "Specifically, we'll be using the data from [3].\n",
    "\n",
    "**Section 4**: Using the real data, you will compare PCA, factor analysis, and GPFA.\n",
    "\n",
    "Once you have completed the exercise, please describe the results of your exercise, and your interpretation of the results *(suggested length: 450-650 words).*\n",
    "Use figures to help describe your results; please embed the figures in your text description.\n",
    "Questions for you to discuss in your write-up are also flagged with **TO-DO:**.\n",
    "\n",
    "**Submit the write-up before noon on the day of the next session.**\n",
    "\n",
    "Much of the crucial code is already implemented for you. Just follow the **TO-DO** signs to complete the problem set.\n",
    "\n",
    "*Acknowledgements: This exercise was adapted by Ella Batty based on a previous version by Jasper Maniates-Selvin and Adam Lowet.*\n",
    "\n",
    "[1] Yu BM, Cunningham JP, Santhanam G, Ryu SI, Shenoy KV, Sahani M. 2009. Gaussian-process factor analysis\n",
    "for low-dimensional single-trial analysis of neural population activity. J. Neurophysiol. 102(1):614–35.\n",
    "<br/>\n",
    "[2] Lawlor PN, Perich MG, Miller L, Kording KP. 2018. Linear-nonlinear-time-warp-poisson models of neural activity. J. Comput. Neurosci. 45:173–91.\n",
    "<br/>\n",
    "[3] Yu, B. M., Kemere C., Santhanam, G., Afshar, A., Ryu, S. I., Meng, T.H., Sahani, M., & Shenoy, K.V. (2007) Mixture of trajectory models for neural decoding of goal-directed movements. Journal of Neurophysiology, 97(5), 3762-3780."
   ]
  },
  {
   "cell_type": "markdown",
   "metadata": {
    "id": "JBn2cwYhlHsN"
   },
   "source": [
    "For your convenience, here are all the **TO-DO**s from throughout the exercise.\n",
    "They will make more sense in context.\n",
    "\n",
    "* Complete the  `generate_trajectories` function below to generate both the latent trajectories during each trial and the neural activity governed by those latent trajectories according to the GPFA equations in [1]. \n",
    "* Look at neural activity in trial 0 and describe the differences you observe between the first 4 neurons. Inspect equation 1, the data above, and your values for C, d, and R. Discuss how those parameters affect different aspects of the neural activity. Could you predict how much a neuron's activity is correlated with the latent trajectory from looking at the parameters? How? (You don't have to generate plots to demonstrate this, though you might want to do so if you're not sure of the answer.)\n",
    "* Complete the code below to initialize the GPFA model with the true number of latents used to simulate the data, and fit it.\n",
    "* In your write-up, discuss how the EM algorithm did at extracting the true parameters. What what we need to further reduce the error in the extracted parameters?\n",
    "* Compare the true and predicted latent trajectories. There should be one major difference. Could you have seen this coming after observing the one major difference between the true and predicted parameters in Section 1.4? Explain what's going on in your write-up.\n",
    "* Use code to find the number of trials and number of neurons contained in the spiking data (`spike_trains`).  How many latent trajectories were used to create the data? The latent trajectories are stored in (`latent_trajectories`). The time bin size is 50ms. How many time bins were used for the latent trajectories? \n",
    "* Complete the following code to get the log likelihood of the fit for the training and testing data. We will divide by the number of training and testing trials so we can directly compare these values.\n",
    "* The predicted latents don't match the true latents. Did something go wrong or is this expected? Discuss in your write-up\n",
    "* Complete the line that performs linear regression to combine the predicted latent trajectories to form each of the true latent trajectories (in `latent_trajectories`) on the first test trial. We'll look at the first 3 true latents.\n",
    "*  Based on this, do the true and predicted latent trajectories seem to span the same 8-dimensional manifold or not? Explain why or why not. Discuss in your write-up.\n",
    "*  How does the variance change across non-orthonormalized dimensions 1 through 8? How does it change across orthonormalized dimensions 1 through 8? Do you think the fitted model's non-orthonormalized dimension 1 would resemble the ground truth non-orthonormalized dimension 1? Do you think the fitted model's orthonormalized dimension 1 would resemble the ground truth orthonormalized dimension 1? Why or why not? Discuss in your write-up.\n",
    "* What underlying dimensionality would you assume the neural data has based on these plots?  Do the log-likelihood and prediction errors give similar results? Why might you use one over the other? Discuss in your write-up.\n",
    "* Do you find this visualization technique helpful for getting a handle on what the latent trajectories look like? Describe what you see - what happens over time and how does it vary by reach? Does it seem like the neural trajectories are different for different reaches? If so, are they well separated? That is, would you be able to tell what the reach direction was just from observing a single trial trajectory? Does the relationship of the mean neural trajectories relate to the relationship of the reach directions? Discuss in your write-up.\n",
    "* Perform PCA and FA on the smoothed train spike data. Transform the test data and save the matrices as pc_transform and fa_transform.\n",
    "* Compare the GPFA trajectories to the PCA and FA plots. What's the major visual difference (look at the individual trials, not the trial average)? What difference in the structure of the models explains the visual difference? Discuss in your write-up.\n",
    "* From this plot, what can you conclude about the dimensionality of the latent state driving activity in the recorded neurons? Do the different models agree or disagree about this dimensionality? Which result do you think you should trust, and why? Discuss in your write-up.\n",
    "* Why are we using prediction error here instead of log-likelihood? Discuss in your write-up.\n",
    "* What is the optimal kernel width for this dataset?"
   ]
  },
  {
   "cell_type": "markdown",
   "metadata": {},
   "source": [
    "## Setup"
   ]
  },
  {
   "cell_type": "code",
   "execution_count": 63,
   "metadata": {
    "id": "qX26wRdUSTJj"
   },
   "outputs": [],
   "source": [
    "import copy\n",
    "import pickle\n",
    "from pathlib import Path\n",
    "\n",
    "import ipywidgets as widgets\n",
    "import matplotlib.pyplot as plt\n",
    "import neo\n",
    "import numpy as np\n",
    "import quantities as pq\n",
    "import scipy.io as sio\n",
    "import scipy.ndimage\n",
    "from elephant.gpfa import GPFA, gpfa_core, gpfa_util\n",
    "from IPython.display import Image, display\n",
    "from matplotlib import animation, rc\n",
    "from scipy import linalg\n",
    "from sklearn import linear_model\n",
    "from sklearn.decomposition import PCA, FactorAnalysis"
   ]
  },
  {
   "cell_type": "code",
   "execution_count": 60,
   "metadata": {},
   "outputs": [],
   "source": [
    "rc(\"animation\", html=\"html5\")"
   ]
  },
  {
   "cell_type": "code",
   "execution_count": 61,
   "metadata": {},
   "outputs": [],
   "source": [
    "data_dir = Path(\"data\", \"NB316QC_Ex3_data\")"
   ]
  },
  {
   "cell_type": "markdown",
   "metadata": {
    "tags": []
   },
   "source": [
    "## Section 1: Generate and fit synthetic data from a 1-dimensional latent space"
   ]
  },
  {
   "cell_type": "markdown",
   "metadata": {
    "id": "uWz8rWxoQKhA"
   },
   "source": [
    "With any complicated model, it's always a good idea to perform \"model recovery\": simulate data according to the generative model that you specify, and then run your model on those data to see if you can recover a close approximation to the ground-truth parameters.\n",
    "We will start by running GPFA on low-dimensional simulated data."
   ]
  },
  {
   "cell_type": "markdown",
   "metadata": {},
   "source": [
    "### Section 1.1. Generate parameters for simulated data"
   ]
  },
  {
   "cell_type": "markdown",
   "metadata": {
    "id": "__B2nNgYQPA5"
   },
   "source": [
    "In this section, we will create the parameters we will use to simulate data using the GPFA model from [1]. \n",
    "\n",
    "In the function below, `n_latents` is the dimensionality of the latent state, and `n_neurons` is the dimensionality of the observed state, which in this case is the number of neurons. We will use a latent state dimensionality of 1 and generate activity for 5 neurons. The function below takes those dimensionalities as arguments and generates random parameters governing the relationship between the latent and observed variables.\n",
    "\n",
    "`C`, `d`, and `R` are defined by equation 1 in [1].\n",
    "\n",
    "`gamma[i]` is related to $\\tau_i^2$ from equation 3, but the model is parameterized slightly differently in this code such that `gamma` also includes the time scaling factor for the spacing between time bins. So, gamma[i] $= (\\text{timeBinSize}^2 / \\tau_i^2)$.\n",
    "\n",
    "`eps` is $\\sigma_{n,i}^2$ from equation 3 and is set to .001 instead of being determined randomly, same as is done in the paper.\n",
    "\n",
    "We define a random seed so that the generated parameters are always the same. You can try different seeds if you want to see the behavior under different parameters, but please use the default random seed for generating plots for your write-up (so that all students will have the same output)."
   ]
  },
  {
   "cell_type": "code",
   "execution_count": 13,
   "metadata": {
    "cellView": "form",
    "id": "eQw27ESEbPoD"
   },
   "outputs": [],
   "source": [
    "def create_GP_covariance_matrices(\n",
    "    n_latents: int, eps: float, gamma: list[float]\n",
    ") -> list[np.ndarray]:\n",
    "    # Create covariance matrices for GP using the squared exponential kernel from Yu et al.\n",
    "    K = []\n",
    "    time_differences = np.tile(\n",
    "        np.arange(1, n_time_bins + 1).reshape((n_time_bins, 1)), (1, n_time_bins)\n",
    "    ) - np.tile(np.arange(1, n_time_bins + 1), (n_time_bins, 1))\n",
    "    for i in range(n_latents):\n",
    "        # `temp` is the term on the left of the `+` sign in equation 3\n",
    "        # (but as a matrix for all t1, t2 pairs)\n",
    "        temp = (1 - eps[i]) * np.exp(-gamma[i] / 2 * time_differences**2)\n",
    "\n",
    "        # K_i has values given by equation 3 of Yu et al.\n",
    "        K_i = temp + eps[i] * np.identity(time_differences.shape[0])\n",
    "        K.append(K_i)\n",
    "\n",
    "    return K"
   ]
  },
  {
   "cell_type": "code",
   "execution_count": 14,
   "metadata": {
    "id": "DdKR9yxCkfOk"
   },
   "outputs": [],
   "source": [
    "def rand_params_generator(\n",
    "    n_latents: int, n_neurons: int, random_seed: int = 2\n",
    ") -> tuple[dict[str, np.ndarray], list[np.ndarray]]:\n",
    "    \"\"\"Generate parameters to simulate data assuming a GPFA model\n",
    "\n",
    "    Args:\n",
    "      n_latents (int): number of latents underlying neural activity\n",
    "      n_neurons (int): number of observed nuerons\n",
    "      random_seed (float): random seed to set for reproducibility\n",
    "\n",
    "    Returns:\n",
    "      dict, list: dictionary containing all the parameters (keys are param names),\n",
    "                list of covariance matrices for the GP for each latent\n",
    "\n",
    "    \"\"\"\n",
    "    # Set random seed for reproducibility\n",
    "    np.random.seed(seed=random_seed)\n",
    "\n",
    "    # Create parameters we will estimate\n",
    "    params = {}\n",
    "\n",
    "    # gamma determines whether the latent trajectories oscillate quickly (large gammas) or vary more smoothly (small gammas)\n",
    "    params[\"gamma\"] = np.random.uniform(0.1, 0.3, n_latents).tolist()\n",
    "    params[\"eps\"] = 1e-3 * np.ones((n_latents,))\n",
    "\n",
    "    params[\"d\"] = 7 + np.random.normal(0, 1, size=(n_neurons,))\n",
    "    params[\"C\"] = np.random.normal(0, 1, size=(n_neurons, n_latents))\n",
    "    params[\"R\"] = np.diag(np.abs(np.random.normal(0, 0.4, n_neurons)))\n",
    "\n",
    "    # Based on eps & gamma, create covariance matrices using eq. 3 from [1]\n",
    "    K = create_GP_covariance_matrices(n_latents, params[\"eps\"], params[\"gamma\"])\n",
    "\n",
    "    return params, K"
   ]
  },
  {
   "cell_type": "code",
   "execution_count": 15,
   "metadata": {},
   "outputs": [
    {
     "name": "stdout",
     "output_type": "stream",
     "text": [
      "{'gamma': [0.18719898042840075], 'eps': array([0.001]), 'd': array([7.04555144, 6.56516985, 5.04620359, 5.41311831, 5.92554448]), 'C': array([[-0.61722311],\n",
      "       [-1.50100687],\n",
      "       [ 0.8935898 ],\n",
      "       [ 0.73954567],\n",
      "       [-1.42356496]]), 'R': array([[0.4442911 , 0.        , 0.        , 0.        , 0.        ],\n",
      "       [0.        , 0.03543203, 0.        , 0.        , 0.        ],\n",
      "       [0.        , 0.        , 0.54169222, 0.        , 0.        ],\n",
      "       [0.        , 0.        , 0.        , 0.02330828, 0.        ],\n",
      "       [0.        , 0.        , 0.        , 0.        , 0.19203394]])}\n"
     ]
    }
   ],
   "source": [
    "# Set up hyperparameters\n",
    "n_latents = 1\n",
    "n_neurons = 5\n",
    "n_time_bins = 100  # number of time bins of data to simulate per trial\n",
    "time_bin_size = 0.02  # bin size in seconds\n",
    "n_trials = 10  # number of trials we will simulate\n",
    "\n",
    "# Create parameters\n",
    "params, K = rand_params_generator(n_latents, n_neurons)\n",
    "print(params)"
   ]
  },
  {
   "cell_type": "markdown",
   "metadata": {},
   "source": [
    "### Section 1.2: Generate a latent space & neural trajectories"
   ]
  },
  {
   "cell_type": "markdown",
   "metadata": {
    "id": "ZQlSlDblb9g6"
   },
   "source": [
    "**TO-DO:** Complete the  `generate_trajectories` function below to generate both the latent trajectories during each trial and the neural activity governed by those latent trajectories according to the GPFA equations in [1]. \n",
    "\n",
    "Note: the neural activity we are generating here is the square-rooted binned spike counts. We'll convert to spike times later."
   ]
  },
  {
   "cell_type": "code",
   "execution_count": 36,
   "metadata": {
    "id": "Pg4_6C5eY5FO"
   },
   "outputs": [],
   "source": [
    "def generate_trajectories(\n",
    "    params: dict[str, np.ndarray],\n",
    "    K: list[np.ndarray],\n",
    "    n_trials: int,\n",
    "    n_latents: int,\n",
    "    n_neurons: int,\n",
    "    n_time_bins: int,\n",
    "    random_seed: int = 3,\n",
    ") -> tuple[np.ndarray, np.ndarray]:\n",
    "    \"\"\"Generate latent and neural trajectories given parameters\n",
    "\n",
    "    Args:\n",
    "      params (dict): dictionary containing all the parameters (keys are param names)\n",
    "      K (list): list of covariance matrices for the GP for each latent\n",
    "      n_trials (int): number of trials of data to simulate\n",
    "      n_latents (int): number of latent dimensions to simulate\n",
    "      n_neurons (int): number of neurons to simulate\n",
    "      n_time_bins (int): number of time steps to simulate\n",
    "      random_seed (float): random seed to set for reproducibility\n",
    "\n",
    "    Returns:\n",
    "      ndarray, ndarray: n_trials x n_latents x n_time_bins array containing latent trajectories,\n",
    "                n_trials x n_neurons x n_time_bins array containing neural activity\n",
    "    \"\"\"\n",
    "    np.random.seed(seed=random_seed)\n",
    "\n",
    "    # Initialize storage arrays.\n",
    "    latent_trajectories = np.zeros((n_trials, n_latents, n_time_bins))\n",
    "    neural_trajectories = np.zeros((n_trials, n_neurons, n_time_bins))\n",
    "\n",
    "    C, d, R = params[\"C\"], params[\"d\"], params[\"R\"]\n",
    "\n",
    "    # Loop through trials.\n",
    "    for i_trial in range(n_trials):\n",
    "        # Create latent trajectories by looping through latent dimensions\n",
    "        for i_latent in range(n_latents):\n",
    "            # Sample this latent trajectory over n_time_bins using eq 2 from [1].\n",
    "            latent_trajectories[i_trial, i_latent] = np.random.multivariate_normal(\n",
    "                mean=np.zeros(n_time_bins), cov=K[i_latent]\n",
    "            )\n",
    "        # Create observed neural trajectories by looping through time bins\n",
    "        for i_t in range(n_time_bins):\n",
    "            # Sample neural activity for all neurons for this time bin using\n",
    "            # eq 1 from [1].\n",
    "            neural_trajectories[i_trial, :, i_t] = np.random.multivariate_normal(\n",
    "                mean=C.dot(latent_trajectories[i_trial, :, i_t]) + d, cov=R\n",
    "            )\n",
    "\n",
    "    return latent_trajectories, neural_trajectories\n",
    "\n",
    "\n",
    "# Generate simulated data\n",
    "latent_trajectories, neural_trajectories = generate_trajectories(\n",
    "    params, K, n_trials, n_latents, n_neurons, n_time_bins\n",
    ")"
   ]
  },
  {
   "cell_type": "markdown",
   "metadata": {},
   "source": [
    "### Section 1.3: Visualize simulated data"
   ]
  },
  {
   "cell_type": "markdown",
   "metadata": {
    "id": "7AXcdApFd_xA"
   },
   "source": [
    "Look at the demo below to visualize the simulated data. You can change the trial you are looking at."
   ]
  },
  {
   "cell_type": "code",
   "execution_count": 37,
   "metadata": {
    "id": "CH7HsnaekfYK"
   },
   "outputs": [
    {
     "data": {
      "application/vnd.jupyter.widget-view+json": {
       "model_id": "09d04ef057444a3ca465e11c742da667",
       "version_major": 2,
       "version_minor": 0
      },
      "text/plain": [
       "interactive(children=(IntSlider(value=0, description='i_trial', max=10), Output()), _dom_classes=('widget-inte…"
      ]
     },
     "metadata": {},
     "output_type": "display_data"
    }
   ],
   "source": [
    "@widgets.interact(i_trial=widgets.IntSlider(value=0, min=0, max=n_trials))\n",
    "def plot_simulated_data(i_trial):\n",
    "\n",
    "    fig, ax = plt.subplots(\n",
    "        n_neurons + 1,\n",
    "        1,\n",
    "        sharex=True,\n",
    "        figsize=(8, 2 * (1 + n_neurons)),\n",
    "        constrained_layout=True,\n",
    "    )\n",
    "\n",
    "    # Plot the latent state\n",
    "    t_vec = time_bin_size * np.arange(n_time_bins)\n",
    "    ax[0].plot(t_vec, latent_trajectories[i_trial].T, \"rx-\")\n",
    "    ax[0].set_title(\"Latent trajectory (trial {})\".format(i_trial))\n",
    "    ax[0].set_ylabel(\"Latent state value\")\n",
    "\n",
    "    # Plot neural activities\n",
    "    for i_neuron in range(n_neurons):\n",
    "        ax[i_neuron + 1].plot(t_vec, neural_trajectories[i_trial, i_neuron].T, \"o-\")\n",
    "        ax[i_neuron + 1].set_title(\"Neuron {} (trial {})\".format(i_neuron, i_trial))\n",
    "        ax[i_neuron + 1].set_ylabel(\"'Activity'\")\n",
    "\n",
    "    ax[n_neurons].set_xlabel(\"Time (seconds)\");"
   ]
  },
  {
   "cell_type": "markdown",
   "metadata": {
    "id": "jjfKcb1kghPz"
   },
   "source": [
    "**TO-DO:** Look at neural activity in trial 0 and describe the differences you observe between the first 4 neurons.\n",
    "Inspect equation 1, the data above, and your values for C, d, and R.\n",
    "Discuss how those parameters affect different aspects of the neural activity.\n",
    "Could you predict how much a neuron's activity is correlated with the latent trajectory from looking at the parameters?\n",
    "How?\n",
    "(You don't have to generate plots to demonstrate this, though you might want to do so if you're not sure of the answer.) ✅\n",
    "\n",
    "The primary difference between the neurons is the amount of noise around the underlying curve of the latent process.\n",
    "This property of the neuron is predominately controlled by the covariance matrix $R$ for $y|x$. \n",
    "The larger the value along the diagonal, the more variance in the neuron's activity.\n",
    "\n",
    "The other difference between neurons is how they are correlated with the latent trajectory.\n",
    "Some are directly and others are inversely proportional, that is, when the latent trajectory goes up, some neurons reliably increase in activity and others decrease.\n",
    "This is controlled by the sign of the neuron's corresponding value in $C$.\n",
    "The amplitude of the neurons activity in relation to the latent trajectory is determined by the size of the neuron's value in $C$."
   ]
  },
  {
   "cell_type": "markdown",
   "metadata": {
    "id": "PUXlpSbygngm"
   },
   "source": [
    "Pretend you didn't already have a plot of the latent state, and just look at the neural activity.\n",
    "Could you predict the general shape of a latent trajectory that may underlie the observed activity? \n",
    "Given the strong (anti-)correlation between neuron 1 and neuron 3 on every trial, you could make a pretty good guess that a latent state with a similar trajectory to the neuron 1 and neuron 3 activity could be driving their activity. Note however that there's no way to know if the latent trajectory is positively correlated with neuron 1 or instead is flipped and is positively correlated with neuron 3. \n",
    "This invariance to sign flips in the latent state is a common feature of state space models. \n",
    "\n",
    "The goal of GPFA is to be able to do exactly this kind of inference - to predict low-dimensional latent trajectories that are best able to explain the correlations observed in the neural recordings.\n",
    "Specifically, GPFA fits a timescale parameters ($\\tau_i$ in the paper, gamma in this exercise) which govern the smoothness of the latent trajectory in each latent dimension, as well as fitting C, d, and R, which you just discussed in your write-up. \n",
    "After fitting these parameters to using many trials of data, the most likely latent trajectory can be calculated for any single trial (either one in the training set or not)."
   ]
  },
  {
   "cell_type": "markdown",
   "metadata": {},
   "source": [
    "### Section 1.4: Estimate parameters using GPFA"
   ]
  },
  {
   "cell_type": "markdown",
   "metadata": {
    "id": "ZzkedSuigso3"
   },
   "source": [
    "We will be using a Python library called [Elephant](https://elephant.readthedocs.io/en/latest/) for GPFA.\n",
    "This is a library based on the original Matlab code by Byron Yu. \n",
    "\n",
    "In order to run GPFA, we need to change the format of our neural data.\n",
    "Right now, we have generated the square root of spike counts ($y$ in [1]), we picked the average value of `d` so these values are mostly positive. GPFA in Elephant requires spike times, not the square root of spike counts. \n",
    "It handles the binning of spikes and the square-rooting of those spike counts internally. \n",
    "The following code cell creates spike times from the spike counts. \n",
    "\n",
    "Additionally, our GPFA implementation requires a very specific data format.\n",
    "We need a list of lists.\n",
    "The outer list is over trials, and the inner lists are over neurons.\n",
    "Each element of the inner list contains the spike times for that trial and that neuron in a special data format, the SpikeTrain data format from another library `neo`.\n",
    "The following code also puts the data in the required format.\n",
    "You don't need to change anything in the code."
   ]
  },
  {
   "cell_type": "code",
   "execution_count": 48,
   "metadata": {
    "id": "McRW1B59pkbQ"
   },
   "outputs": [],
   "source": [
    "def generate_spike_trains(\n",
    "    neural_trajectories: np.ndarray,\n",
    "    n_trials: int,\n",
    "    n_neurons: int,\n",
    "    n_time_bins: int,\n",
    "    time_bin_size: float,\n",
    ") -> list[list[neo.SpikeTrain]]:\n",
    "    # Rectify neural trajectories\n",
    "    neural_trajectories = neural_trajectories * (neural_trajectories > 0)\n",
    "\n",
    "    # Create spike counts from neural trajectories\n",
    "    spike_counts = np.round(neural_trajectories**2).astype(\"int\")\n",
    "\n",
    "    # Generate spike times\n",
    "    spike_trains = [None] * n_trials\n",
    "\n",
    "    for i_trial in range(n_trials):\n",
    "\n",
    "        spike_trains[i_trial] = [None] * n_neurons\n",
    "\n",
    "        for i_neuron in range(n_neurons):\n",
    "\n",
    "            spike_trains[i_trial][i_neuron] = []\n",
    "\n",
    "            for i_bin in range(n_time_bins):\n",
    "\n",
    "                spike_count = spike_counts[i_trial, i_neuron, i_bin]\n",
    "\n",
    "                bin_start = i_bin * time_bin_size\n",
    "                bin_end = (i_bin + 1) * time_bin_size\n",
    "\n",
    "                # Pick that number of spikes\n",
    "                spike_trains[i_trial][i_neuron] += list(\n",
    "                    np.random.uniform(bin_start, bin_end, size=(spike_count,))\n",
    "                )\n",
    "\n",
    "            # Convert to special format\n",
    "            spike_trains[i_trial][i_neuron] = neo.SpikeTrain(\n",
    "                spike_trains[i_trial][i_neuron],\n",
    "                units=\"sec\",\n",
    "                t_stop=time_bin_size * n_time_bins,\n",
    "            )\n",
    "\n",
    "    return spike_trains"
   ]
  },
  {
   "cell_type": "code",
   "execution_count": 50,
   "metadata": {},
   "outputs": [],
   "source": [
    "spike_trains = generate_spike_trains(\n",
    "    neural_trajectories, n_trials, n_neurons, n_time_bins, time_bin_size\n",
    ")"
   ]
  },
  {
   "cell_type": "markdown",
   "metadata": {
    "id": "waON1WBZj0Iv"
   },
   "source": [
    "**TO-DO:** Complete the code below to initialize the GPFA model with the true number of latents used to simulate the data, and fit it. ✅\n",
    "\n",
    "See the documentation here for help: https://elephant.readthedocs.io/en/latest/reference/_toctree/gpfa/elephant.gpfa.gpfa.GPFA.html#elephant.gpfa.gpfa.GPFA.transform"
   ]
  },
  {
   "cell_type": "code",
   "execution_count": 52,
   "metadata": {
    "id": "AHrkoLoei-a4"
   },
   "outputs": [
    {
     "name": "stdout",
     "output_type": "stream",
     "text": [
      "Initializing parameters using factor analysis...\n",
      "\n",
      "Fitting GPFA model...\n"
     ]
    },
    {
     "data": {
      "text/plain": [
       "GPFA(x_dim=1)"
      ]
     },
     "execution_count": 52,
     "metadata": {},
     "output_type": "execute_result"
    }
   ],
   "source": [
    "# Set up bin size in format required by GPFA\n",
    "bin_size = (time_bin_size * 1000) * pq.ms\n",
    "\n",
    "# Initialize GPFA\n",
    "gpfa = GPFA(bin_size=bin_size, x_dim=n_latents)\n",
    "\n",
    "# Fit GPFA\n",
    "gpfa.fit(spiketrains=spike_trains)"
   ]
  },
  {
   "cell_type": "markdown",
   "metadata": {
    "id": "qBA-LKJYkdYP"
   },
   "source": [
    "The extracted parameters can be access through a `params_estimated` data attribute. Here we print the extracted parameters and the true parameters to see how well they match."
   ]
  },
  {
   "cell_type": "code",
   "execution_count": 54,
   "metadata": {
    "id": "939e3FPSkj2w"
   },
   "outputs": [
    {
     "name": "stdout",
     "output_type": "stream",
     "text": [
      "True gamma \n",
      " [0.18719898042840075]\n",
      "Fitted gamma of GPFA model\n",
      " [0.18893552]\n",
      "--------------------\n",
      "True eps \n",
      " [0.001]\n",
      "Fitted eps of GPFA model\n",
      " [0.001]\n",
      "--------------------\n",
      "True d \n",
      " [7.04555144 6.56516985 5.04620359 5.41311831 5.92554448]\n",
      "Fitted d of GPFA model\n",
      " [7.04600079 6.51071264 5.03177859 5.4341881  5.84483911]\n",
      "--------------------\n",
      "True C \n",
      " [[-0.61722311]\n",
      " [-1.50100687]\n",
      " [ 0.8935898 ]\n",
      " [ 0.73954567]\n",
      " [-1.42356496]]\n",
      "Fitted C of GPFA model\n",
      " [[ 0.61278453]\n",
      " [ 1.47103102]\n",
      " [-0.88446816]\n",
      " [-0.72621295]\n",
      " [ 1.40630922]]\n",
      "--------------------\n",
      "True R \n",
      " [[0.4442911  0.         0.         0.         0.        ]\n",
      " [0.         0.03543203 0.         0.         0.        ]\n",
      " [0.         0.         0.54169222 0.         0.        ]\n",
      " [0.         0.         0.         0.02330828 0.        ]\n",
      " [0.         0.         0.         0.         0.19203394]]\n",
      "Fitted R of GPFA model\n",
      " [[0.43826359 0.         0.         0.         0.        ]\n",
      " [0.         0.0331811  0.         0.         0.        ]\n",
      " [0.         0.         0.52131594 0.         0.        ]\n",
      " [0.         0.         0.         0.024471   0.        ]\n",
      " [0.         0.         0.         0.         0.18756905]]\n",
      "--------------------\n"
     ]
    }
   ],
   "source": [
    "for param_name in params.keys():\n",
    "    print(f\"True {param_name} \\n\", params[param_name])\n",
    "    print(f\"Fitted {param_name} of GPFA model\\n\", gpfa.params_estimated[param_name])\n",
    "    print(\"-\" * 20)"
   ]
  },
  {
   "cell_type": "markdown",
   "metadata": {
    "id": "oOk3q2EilLsa"
   },
   "source": [
    "**TO-DO:** In your write-up, discuss how the EM algorithm did at extracting the true parameters. What would we need to further reduce the error in the extracted parameters? ✅\n",
    "\n",
    "GPFA was very good at recovering the true parameters of the simulated data.\n",
    "This is not surprising as the data was created using the generative model described by GPFA.\n",
    "Better estimates could probably be obtained by increasing the amount of data or limiting the size of variance parameters.\n",
    "The main discrepancy between the true and estimated parameters is that the signs for the values of $C$ are inverted.\n",
    "This is possible between the direction of the latent trajectory can be inverted simultaneously to produce the same observed neuron activity."
   ]
  },
  {
   "cell_type": "markdown",
   "metadata": {},
   "source": [
    "### Section 1.5: Compare predicted latent trajectory to true trajectory"
   ]
  },
  {
   "cell_type": "markdown",
   "metadata": {
    "id": "3P1QYFXOmVsZ"
   },
   "source": [
    "We can use the `transform` method of the GPFA object to return the predicted latent trajectories based on the estimated parameters:"
   ]
  },
  {
   "cell_type": "code",
   "execution_count": 55,
   "metadata": {
    "id": "6cZkzYuU4n0E"
   },
   "outputs": [],
   "source": [
    "predicted_latent_trajectories = gpfa.transform(\n",
    "    spike_trains, returned_data=[\"latent_variable\"]\n",
    ")"
   ]
  },
  {
   "cell_type": "markdown",
   "metadata": {
    "id": "yWKFY2o04pGV"
   },
   "source": [
    "Note that we need to specify what we want the returned data to be. We can also return orthogonalized latent trajectories, the binned and square-rooted neural data, and some covariance matrices.\n",
    "\n",
    "Visualize the predicted vs true latents using the following code. You can change the trial of data you are examining."
   ]
  },
  {
   "cell_type": "code",
   "execution_count": 57,
   "metadata": {
    "id": "cMkaS_eymYEu"
   },
   "outputs": [
    {
     "data": {
      "application/vnd.jupyter.widget-view+json": {
       "model_id": "2476eac0c32e4b02b45a9538a0c87ad0",
       "version_major": 2,
       "version_minor": 0
      },
      "text/plain": [
       "interactive(children=(IntSlider(value=0, description='i_trial', max=9), Output()), _dom_classes=('widget-inter…"
      ]
     },
     "metadata": {},
     "output_type": "display_data"
    }
   ],
   "source": [
    "@widgets.interact(i_trial=widgets.IntSlider(value=0, min=0, max=n_trials - 1))\n",
    "def plot_latent_trajectories(i_trial: int):\n",
    "    t_vec = time_bin_size * np.arange(n_time_bins)\n",
    "\n",
    "    fig, ax = plt.subplots(1, 1, figsize=(10, 5))\n",
    "    ax.plot(\n",
    "        t_vec, latent_trajectories[i_trial].T, \"r.-\", label=\"True latent trajectory\"\n",
    "    )\n",
    "    ax.plot(\n",
    "        t_vec,\n",
    "        predicted_latent_trajectories[i_trial].T,\n",
    "        \"b.-\",\n",
    "        label=\"Predicted latent trajectory\",\n",
    "    )\n",
    "\n",
    "    ax.set(\n",
    "        ylabel=\"Latent state value\",\n",
    "        xlabel=\"Time (seconds)\",\n",
    "        title=f\"Comparison of true and predicted latent states (trial {i_trial})\",\n",
    "    )\n",
    "    fig.legend()"
   ]
  },
  {
   "cell_type": "markdown",
   "metadata": {
    "id": "1Dwu5zQGoz_g"
   },
   "source": [
    "Hint: Your plot from the cell above for `i_trial` of 0 should look exactly like the image below, but with the predicted latent trajectory as well.\n",
    "If you don't get exactly this output for the latent trajectory, double check your code (and that you didn't change any random seeds), and if everything still looks right to you, contact Shih-yi. "
   ]
  },
  {
   "cell_type": "code",
   "execution_count": 62,
   "metadata": {
    "id": "Ku0WUdNjbhR-"
   },
   "outputs": [
    {
     "name": "stdout",
     "output_type": "stream",
     "text": [
      "zsh:1: command not found: gdown\n"
     ]
    },
    {
     "data": {
      "image/png": "[encoded data removed]",
      "text/plain": [
       "<IPython.core.display.Image object>"
      ]
     },
     "metadata": {},
     "output_type": "display_data"
    }
   ],
   "source": [
    "display(Image(data_dir / \"example_predicted_traj.png\"))"
   ]
  },
  {
   "cell_type": "markdown",
   "metadata": {
    "id": "9mUayKSho26e"
   },
   "source": [
    "**TO-DO:** Compare the true and predicted latent trajectories. There should be one major difference. Could you have seen this coming after observing the one major difference between the true and predicted parameters in Section 1.4? Explain what's going on."
   ]
  },
  {
   "cell_type": "markdown",
   "metadata": {
    "tags": []
   },
   "source": [
    "## Section 2: Investigating more complex simulated data"
   ]
  },
  {
   "cell_type": "markdown",
   "metadata": {
    "id": "pJ4bNEb6Im-8"
   },
   "source": [
    "In this section, we'll dive into some more complex simulated data that was generated using 8 latent dimensions (instead of 1).  We'll look again at how predicted latent states compare to the true ones and at how to determine the dimensionality of the latent space."
   ]
  },
  {
   "cell_type": "markdown",
   "metadata": {},
   "source": [
    "### Section 2.1: Create higher-dimensional simulated data"
   ]
  },
  {
   "cell_type": "markdown",
   "metadata": {
    "id": "-4cKDbgCIxUc"
   },
   "source": [
    "Run the next cell to load a larger simulated dataset, generated a similar way to the data in Section 1 but with 8 latents."
   ]
  },
  {
   "cell_type": "code",
   "execution_count": null,
   "metadata": {
    "id": "FoxTcgW7cNM8"
   },
   "outputs": [],
   "source": [
    "!gdown --id 1kvSuiklRT2jFVrTWXX_wMwO1Drrs61EU\n",
    "\n",
    "with open(\"/content/section2_simulated_data.pickle\", \"rb\") as file:\n",
    "    spike_trains = pickle.load(file)\n",
    "    latent_trajectories = pickle.load(file)\n",
    "    true_C = pickle.load(file)"
   ]
  },
  {
   "cell_type": "markdown",
   "metadata": {
    "id": "O19NysNY79z8"
   },
   "source": [
    "**TO-DO:** Use code to find the number of trials and number of neurons contained in the spiking data (`spike_trains`).  How many latent trajectories were used to create the data? The latent trajectories are stored in (`latent_trajectories`). The time bin size is 50ms. How many time bins were used for the latent trajectories? \n",
    "\n",
    "Remember that we use the same latent trajectories for every trial."
   ]
  },
  {
   "cell_type": "code",
   "execution_count": null,
   "metadata": {
    "id": "JvoX8F1zSiUk"
   },
   "outputs": [],
   "source": [
    "n_trials = ...\n",
    "n_neurons = ...\n",
    "n_time_bins = ...\n",
    "time_bin_size = 0.05\n",
    "n_latents = ...\n",
    "n_true_latent = n_latents\n",
    "\n",
    "print(f\"n_trials = {n_trials}\")\n",
    "print(f\"n_neurons = {n_neurons}\")\n",
    "print(f\"n_time_bins = {n_time_bins}\")\n",
    "print(f\"n_latents = {n_latents}\")"
   ]
  },
  {
   "cell_type": "markdown",
   "metadata": {},
   "source": [
    "### Section 2.2: Fitting GPFA"
   ]
  },
  {
   "cell_type": "markdown",
   "metadata": {
    "id": "wMD8CwPp-Obb"
   },
   "source": [
    "Let's fit GPFA on this data! Unlike before, we will split the trials into train and test trials. We should do k-fold cross-validation but we want to save some time in this tutorial. This will take a couple minutes so please be patient."
   ]
  },
  {
   "cell_type": "code",
   "execution_count": null,
   "metadata": {
    "id": "WQBfx1_SJ_kp"
   },
   "outputs": [],
   "source": [
    "# Get info on train/test splits\n",
    "n_train_trials = int(0.8 * n_trials)\n",
    "n_test_trials = n_trials - n_train_trials\n",
    "train_inds = np.arange(0, n_train_trials)\n",
    "test_inds = np.arange(n_train_trials, n_trials)\n",
    "\n",
    "# Set up bin size in format required by GPFA\n",
    "bin_size = (time_bin_size * 1000) * pq.ms\n",
    "\n",
    "# Initialize GPFA\n",
    "n_latents = 8\n",
    "gpfa = GPFA(bin_size=bin_size, x_dim=n_latents)\n",
    "\n",
    "# Fit GPFA on training data\n",
    "gpfa.fit(spike_trains[:n_train_trials])"
   ]
  },
  {
   "cell_type": "markdown",
   "metadata": {
    "id": "ZK7QQFFDL5wS"
   },
   "source": [
    "**TO-DO:** Complete the following code to get the log likelihood of the fit for the training and testing data. We will divide by the number of training and testing trials so we can directly compare these values.\n",
    "\n",
    "Hints: `spike_trains[n_train_trials:]` gives the test data. Use the `score` method: https://elephant.readthedocs.io/en/latest/reference/_toctree/gpfa/elephant.gpfa.gpfa.GPFA.html#elephant.gpfa.gpfa.GPFA.transform"
   ]
  },
  {
   "cell_type": "code",
   "execution_count": null,
   "metadata": {
    "id": "7Zz32Vl5KyTd"
   },
   "outputs": [],
   "source": [
    "# TO-DO: compute log-likelihood on train data\n",
    "LL_train = ...\n",
    "print(f\"Log likelihood of the training set: {LL_train / n_train_trials}\")\n",
    "\n",
    "# TO-DO: compute log-likelihood on test data\n",
    "LL_test = ...\n",
    "print(f\"Log likelihood of the testing set: {LL_test / n_test_trials}\")"
   ]
  },
  {
   "cell_type": "markdown",
   "metadata": {},
   "source": [
    "### Section 2.3: Visualize GPFA trajectories"
   ]
  },
  {
   "cell_type": "markdown",
   "metadata": {
    "id": "F7FG241BMwc8"
   },
   "source": [
    "Next, let's plot the estimated latent trajectories  over time.\n",
    "\n",
    "In the first row, each subplot shows the true latent trajectories for one latent dimension. \n",
    "\n",
    "In the second row, each subplot shows a single latent dimension extracted by GPFA for the first trial. "
   ]
  },
  {
   "cell_type": "code",
   "execution_count": null,
   "metadata": {
    "id": "ZY7gq78HMhAt"
   },
   "outputs": [],
   "source": [
    "# Get predicted trajectories\n",
    "outs = gpfa.transform(\n",
    "    spike_trains, returned_data=[\"latent_variable\", \"latent_variable_orth\"]\n",
    ")\n",
    "predicted_latent_trajectories = outs[\"latent_variable\"]\n",
    "predicted_latent_trajectories_orth = outs[\"latent_variable_orth\"]"
   ]
  },
  {
   "cell_type": "code",
   "execution_count": null,
   "metadata": {
    "id": "OjNHEStn4-Of"
   },
   "outputs": [],
   "source": [
    "fig, axes = plt.subplots(2, 8, figsize=(20, 5), sharex=True)\n",
    "t_vec = np.arange(0, n_time_bins) * time_bin_size\n",
    "i_trial = test_inds[0]\n",
    "for i_latent in range(n_latents):\n",
    "    axes[0][i_latent].plot(t_vec, latent_trajectories[i_trial][i_latent])\n",
    "    axes[0][i_latent].set(title=f\"True latent dim {i_latent}\")\n",
    "    axes[1][i_latent].plot(t_vec, predicted_latent_trajectories[i_trial][i_latent])\n",
    "    axes[1][i_latent].set(title=f\"Predicted latent dim {i_latent}\", xlabel=\"Time (s)\")\n",
    "\n",
    "plt.tight_layout()"
   ]
  },
  {
   "cell_type": "markdown",
   "metadata": {
    "id": "uVbcAVBDdorP"
   },
   "source": [
    "**TO-DO:** The predicted latents don't match the true latents. Did something go wrong or is this expected?"
   ]
  },
  {
   "cell_type": "markdown",
   "metadata": {},
   "source": [
    "### Section 2.4: Compare model estimates to the ground-truth data"
   ]
  },
  {
   "cell_type": "markdown",
   "metadata": {
    "id": "e3EJ7FDQNosL"
   },
   "source": [
    "We need a way to compare predicted latent trajectories to true ones to determine if GPFA has extracted the correct underlying low dimensional structure. As you were asked to think about above, the predicted and true latent trajectories won't necessarily appear similar even if the model fitting went well. However, the space spanned by the predicted trajectories should be the same as the space spanned by the latent trajectories if the model extracted the overall latent space correctly.\n",
    "\n",
    "To see whether this is true, we can do two different tests. As done in the paper, we can perform PCA on the predicted and true latent trajectories to see if the orthonormalized, variance-sorted dimensions match, which should happen if they span the same space. Or, more directly, we can just ask whether the true latent trajectories can be expressed as linear combinations of the predicted latent trajectories. Specifically, we can use linear regression to see if the true latent trajectory for a given dimension can be made out of linear combinations of the predicted latent trajectories.\n",
    "\n",
    " We'll take this second more direct approach first, then do PCA.\n",
    "\n",
    "**TO-DO:** Complete the line that performs linear regression to combine the predicted latent trajectories to form each of the true latent trajectories (in `latent_trajectories`) on the first test trial. We'll look at the first 3 true latents. **Make sure the data is in the right format for sklearn LinearRegression.** For example the input should be number of samples by number of features."
   ]
  },
  {
   "cell_type": "code",
   "execution_count": null,
   "metadata": {
    "id": "O33SgC3gUc3m"
   },
   "outputs": [],
   "source": [
    "i_trial = test_inds[0]  # pick a test trial\n",
    "\n",
    "# Fit linear regression\n",
    "linear_reg = linear_model.LinearRegression()\n",
    "linear_reg.fit(...)\n",
    "linear_combos_of_predicted = linear_reg.predict(...)\n",
    "\n",
    "# Visualize\n",
    "t_vec = np.arange(0, n_time_bins) * time_bin_size\n",
    "fig, axes = plt.subplots(3, 3, figsize=(15, 10), sharex=True)\n",
    "axes = axes.flatten()\n",
    "for i_latent in range(8):\n",
    "    axes[i_latent].plot(\n",
    "        t_vec,\n",
    "        predicted_latent_trajectories[i_trial].T,\n",
    "        \"b\",\n",
    "        label=\"Predicted latent trajectories\",\n",
    "    )\n",
    "    axes[i_latent].plot(\n",
    "        t_vec,\n",
    "        latent_trajectories[i_trial][i_latent],\n",
    "        \"r\",\n",
    "        linewidth=2,\n",
    "        label=\"Actual latent trajectory\",\n",
    "    )\n",
    "    axes[i_latent].plot(\n",
    "        t_vec,\n",
    "        linear_combos_of_predicted[:, i_latent].T,\n",
    "        \"xk\",\n",
    "        label=\"Fitted linear combo of predicted trajectories\",\n",
    "    )\n",
    "    axes[i_latent].set(title=f\"True latent dim {i_latent}\")\n",
    "\n",
    "axes[i_latent].set(xlabel=\"Time (s)\")\n",
    "h, l = axes[0].get_legend_handles_labels()\n",
    "h, l = h[i_latent:], l[i_latent:]\n",
    "axes[i_latent + 1].axis(\"Off\")\n",
    "axes[i_latent + 1].legend(h, l);"
   ]
  },
  {
   "cell_type": "markdown",
   "metadata": {
    "id": "G7Fau7mgphK6"
   },
   "source": [
    "We can loop over trials and compute the average R2 over trials for each latent prediction."
   ]
  },
  {
   "cell_type": "code",
   "execution_count": null,
   "metadata": {
    "id": "5D7sWangpl6L"
   },
   "outputs": [],
   "source": [
    "from sklearn.metrics import r2_score\n",
    "\n",
    "r2 = np.zeros((n_latents,))\n",
    "for i_trial in test_inds:\n",
    "\n",
    "    # Fit linear regression\n",
    "    linear_reg = linear_model.LinearRegression()\n",
    "    linear_reg.fit(\n",
    "        predicted_latent_trajectories[i_trial].T, latent_trajectories[i_trial].T\n",
    "    )\n",
    "    linear_combos_of_predicted = linear_reg.predict(\n",
    "        predicted_latent_trajectories[i_trial].T\n",
    "    )\n",
    "\n",
    "    r2 += r2_score(\n",
    "        latent_trajectories[i_trial].T,\n",
    "        linear_combos_of_predicted,\n",
    "        multioutput=\"raw_values\",\n",
    "    )  # linear_reg.score(predicted_latent_trajectories[i_trial].T, latent_trajectories[i_trial].T)\n",
    "r2 /= len(test_inds)\n",
    "print(f\"R^2 for each latent dimension, averaged across trials: {r2}\")"
   ]
  },
  {
   "cell_type": "markdown",
   "metadata": {
    "id": "MZmrNNi9EJWu"
   },
   "source": [
    "**TO-DO:** Based on this, do the true and predicted latent trajectories seem to span the same 8-dimensional manifold or not? Explain why or why not."
   ]
  },
  {
   "cell_type": "markdown",
   "metadata": {
    "id": "ebi_3IyvlbpW"
   },
   "source": [
    "### (Optional) Section 2.5: orthogonal latents"
   ]
  },
  {
   "cell_type": "markdown",
   "metadata": {
    "id": "96IO1UEazpau"
   },
   "source": [
    "Now let's try the second method of looking at the orthonormalized trajectories. Let's first look at the orthonormalized predicted trajectories."
   ]
  },
  {
   "cell_type": "code",
   "execution_count": null,
   "metadata": {
    "id": "tNuVqMFV0BJj"
   },
   "outputs": [],
   "source": [
    "# Plot predicted latents again\n",
    "fig, axes = plt.subplots(1, 8, figsize=(20, 5), sharex=True, sharey=True)\n",
    "t_vec = np.arange(0, n_time_bins) * time_bin_size\n",
    "i_trial = train_inds[0]\n",
    "for i_latent in range(n_latents):\n",
    "    axes[i_latent].plot(t_vec, predicted_latent_trajectories[i_trial][i_latent])\n",
    "    axes[i_latent].set(title=f\"Predicted latent {i_latent}\")\n",
    "plt.tight_layout()\n",
    "\n",
    "# Predict orthonormalized latents again\n",
    "fig, axes = plt.subplots(1, 8, figsize=(20, 5), sharex=True, sharey=True)\n",
    "t_vec = np.arange(0, n_time_bins) * time_bin_size\n",
    "i_trial = train_inds[0]\n",
    "for i_latent in range(n_latents):\n",
    "    axes[i_latent].plot(t_vec, predicted_latent_trajectories_orth[i_trial][i_latent])\n",
    "    axes[i_latent].set(\n",
    "        title=f\"Orthonormalized \\n predicted latent {i_latent}\", xlabel=\"Time (s)\"\n",
    "    )\n",
    "plt.tight_layout()"
   ]
  },
  {
   "cell_type": "markdown",
   "metadata": {
    "id": "NVptOPvj0SYq"
   },
   "source": [
    "**TO-DO**: How does the variance change across non-orthonormalized dimensions 1 through 8? How does it change across orthonormalized dimensions 1 through 8? Do you think the fitted model's non-orthonormalized dimension 1 would resemble the ground truth non-orthonormalized dimension 1? Do you think the fitted model's orthonormalized dimension 1 would resemble the ground truth orthonormalized dimension 1? Why or why not?"
   ]
  },
  {
   "cell_type": "markdown",
   "metadata": {
    "id": "THpjvI401EIg"
   },
   "source": [
    "Let's now get the orthonormalized ground truth dimensions and compare with the orthonormalized predicted dimensions."
   ]
  },
  {
   "cell_type": "code",
   "execution_count": null,
   "metadata": {
    "id": "F8LTikZZcdrH"
   },
   "outputs": [],
   "source": [
    "i_trial = test_inds[0]\n",
    "\n",
    "# Orthogonalize the true latents\n",
    "latent_trajectories_orth, _, _ = gpfa_util.orthonormalize(\n",
    "    latent_trajectories[i_trial], true_C\n",
    ")\n",
    "\n",
    "# Visualize\n",
    "fig, axes = plt.subplots(2, 4, figsize=(10, 5), sharey=True)\n",
    "axes = axes.flatten()\n",
    "\n",
    "for i_latent in range(n_latents):\n",
    "    axes[i_latent].plot(latent_trajectories_orth[i_latent], \"x\")\n",
    "    sq_errs = np.sum(\n",
    "        (\n",
    "            latent_trajectories_orth[i_latent]\n",
    "            - predicted_latent_trajectories_orth[i_trial][i_latent]\n",
    "        )\n",
    "        ** 2\n",
    "    )\n",
    "    flipped_sq_errs = np.sum(\n",
    "        (\n",
    "            -latent_trajectories_orth[i_latent]\n",
    "            - predicted_latent_trajectories_orth[i_trial][i_latent]\n",
    "        )\n",
    "        ** 2\n",
    "    )\n",
    "\n",
    "    dim_sign = 1\n",
    "    if np.sum(flipped_sq_errs) < np.sum(sq_errs):\n",
    "        dim_sign = -1\n",
    "    axes[i_latent].plot(\n",
    "        dim_sign * predicted_latent_trajectories_orth[i_trial][i_latent], \"k\"\n",
    "    )\n",
    "    axes[i_latent].set(title=f\"Orthonormalized latent {i_latent}\")\n",
    "axes[0].legend([\"Ground truth\", \"Model prediction\"])\n",
    "\n",
    "plt.tight_layout()"
   ]
  },
  {
   "cell_type": "markdown",
   "metadata": {
    "id": "rK6EIVYIlwra"
   },
   "source": [
    "Note the match isn't that close as we're in a low-data regime. With more training data, these would resemble each other more."
   ]
  },
  {
   "cell_type": "markdown",
   "metadata": {
    "id": "SozMauav1PNe"
   },
   "source": [
    "**TO-DO (optional, because it's a hard question):** In general, we find a good match between the n'th principal component of the true latent space and the n'th principal component of the predicted latent space. However, the match isn't perfect, with some trajectories appearing quite off. What might be causing these discrepancies, despite the very high R^2 values we got in the linear regression test above? (Hint: \"amount of variance\" or \"rotation\" might be useful phrases to use in an answer.)"
   ]
  },
  {
   "cell_type": "markdown",
   "metadata": {},
   "source": [
    "### Section 2.6: Recover the dimensionality of the underlying latent space"
   ]
  },
  {
   "cell_type": "markdown",
   "metadata": {
    "id": "4_g-PJqCIIIk"
   },
   "source": [
    "Finally, let's forget we simulated this data and estimate the dimensionality of the underlying space from the spike data.\n",
    "\n",
    "We want to fit GPFA models with different assumed latent dimensionality and compare the log-likelihood. This code loops over different latent dimensions and fits GPFA models of each dimension. It'll take a couple minutes to run. `gpfas` is a dictionary where the keys are the number of latents and the values are the fitted GPFA models."
   ]
  },
  {
   "cell_type": "code",
   "execution_count": null,
   "metadata": {
    "id": "8XHjCfkauHwq"
   },
   "outputs": [],
   "source": [
    "n_latents_to_try = [2, 5, 8, 12, 15]\n",
    "gpfas = {}\n",
    "for n_latents in n_latents_to_try:\n",
    "    gpfas[n_latents] = GPFA(x_dim=n_latents)\n",
    "    gpfas[n_latents].fit(spike_trains[:n_train_trials])"
   ]
  },
  {
   "cell_type": "markdown",
   "metadata": {},
   "source": [
    "#### Section 2.6.1: Test log-likelihood"
   ]
  },
  {
   "cell_type": "markdown",
   "metadata": {
    "id": "5v2kGFzG1-_0"
   },
   "source": [
    "Let's first look at the log-likelihood of each GPFA model"
   ]
  },
  {
   "cell_type": "code",
   "execution_count": null,
   "metadata": {
    "id": "X_Lpva602rw1"
   },
   "outputs": [],
   "source": [
    "# Gather log-likelihoods of the GPFA models\n",
    "log_likelihoods = []\n",
    "for n_latents in n_latents_to_try:\n",
    "    test_LL = gpfas[n_latents].score(spike_trains[n_train_trials:])\n",
    "    log_likelihoods.append(test_LL)\n",
    "\n",
    "# Visualize\n",
    "fig, ax = plt.subplots(1, 1)\n",
    "ax.plot(n_latents_to_try, log_likelihoods, \"-o\")\n",
    "ax.set(xlabel=\"Latent state dimensionality\", ylabel=\"Test log likelihood\");"
   ]
  },
  {
   "cell_type": "code",
   "execution_count": null,
   "metadata": {
    "id": "gG6RdVrhuTha"
   },
   "outputs": [],
   "source": [
    "print(log_likelihoods)"
   ]
  },
  {
   "cell_type": "markdown",
   "metadata": {},
   "source": [
    "#### Section 2.6.2: Test leave-neuron-out prediction error"
   ]
  },
  {
   "cell_type": "markdown",
   "metadata": {
    "id": "mVu7EsXY2YlZ"
   },
   "source": [
    "Now we'll use leave-neuron-out prediction error as in [1]. We will leave one neuron out at a time, compute the latent trajectories, and predict that neuron's activity. The prediction error is then the summed squared difference between the true (square-rooted binned) neural responses and the predicted responses on the test data.\n",
    "\n",
    "In the following cell, we define the helper function `compute_leave_out_neuron_validation` which performs this computation. \n",
    "\n",
    "We can also predict the neural response just using the first `n` orthogonal trajectories of a model with higher than n latent space dimensionality. This is the reduced GPFA model from [1]. "
   ]
  },
  {
   "cell_type": "code",
   "execution_count": null,
   "metadata": {
    "cellView": "form",
    "id": "nYwPbBit3vnF"
   },
   "outputs": [],
   "source": [
    "# @markdown Execute to get helper function `compute_leave_out_neuron_validation`\n",
    "def compute_leave_out_neuron_validation(\n",
    "    gpfa_model, test_spike_trains, n_orth_latents=None\n",
    "):\n",
    "\n",
    "    n_neurons = gpfa_model.params_estimated[\"C\"].shape[0]\n",
    "    n_latents = gpfa_model.params_estimated[\"C\"].shape[1]\n",
    "    n_test_trials = len(test_spike_trains)\n",
    "\n",
    "    if n_orth_latents is None:\n",
    "        n_orth_latents = [n_latents]\n",
    "\n",
    "    # Get y_test for all neurons\n",
    "    bin_size = gpfa_model.bin_size\n",
    "    seqs_temp = gpfa_util.get_seqs(test_spike_trains, bin_size)\n",
    "\n",
    "    # Set up storage\n",
    "    errors = {}\n",
    "    predictions = {}\n",
    "    predictions[\"y_test\"] = seqs_temp[\"y\"]\n",
    "    for n_orth_latent in n_orth_latents:\n",
    "        errors[f\"{n_orth_latent}outof{n_latents}latents\"] = 0\n",
    "        predictions[f\"y_test_predictions_{n_orth_latent}outof{n_latents}latents\"] = [\n",
    "            None\n",
    "        ] * n_test_trials\n",
    "        for i_trial in range(n_test_trials):\n",
    "            predictions[f\"y_test_predictions_{n_orth_latent}outof{n_latents}latents\"][\n",
    "                i_trial\n",
    "            ] = np.zeros_like(predictions[\"y_test\"][i_trial])\n",
    "\n",
    "    for leave_out_neuron in range(n_neurons):\n",
    "\n",
    "        # Get indices leaving out this neuron\n",
    "        leave_out_indices = [i for i in range(n_neurons) if i != leave_out_neuron]\n",
    "\n",
    "        # Remove neuron from spike trains\n",
    "        altered_spike_trains = copy.deepcopy(test_spike_trains)\n",
    "        for i_trial in range(n_test_trials):\n",
    "            altered_spike_trains[i_trial] = [\n",
    "                test_spike_trains[i_trial][i]\n",
    "                for i in range(n_neurons)\n",
    "                if i != leave_out_neuron\n",
    "            ]\n",
    "\n",
    "        # Alter GPFA C/d/R parameters to remove neuron\n",
    "        altered_gpfa = copy.deepcopy(gpfa_model)\n",
    "        altered_gpfa.params_estimated[\"C\"] = altered_gpfa.params_estimated[\"C\"][\n",
    "            leave_out_indices\n",
    "        ]\n",
    "        altered_gpfa.params_estimated[\"d\"] = altered_gpfa.params_estimated[\"d\"][\n",
    "            leave_out_indices\n",
    "        ]\n",
    "        altered_gpfa.params_estimated[\"R\"] = altered_gpfa.params_estimated[\"R\"][\n",
    "            leave_out_indices\n",
    "        ]\n",
    "        altered_gpfa.params_estimated[\"R\"] = altered_gpfa.params_estimated[\"R\"][\n",
    "            :, leave_out_indices\n",
    "        ]\n",
    "        altered_gpfa.has_spikes_bool = altered_gpfa.has_spikes_bool[leave_out_indices]\n",
    "\n",
    "        # Find latent trajectories without that neuron\n",
    "        # this is based on gpfa.transform, the only reason we can't use that is we want the full matrix C to orthogonalize\n",
    "        seqs = gpfa_util.get_seqs(altered_spike_trains, altered_gpfa.bin_size)\n",
    "\n",
    "        # for seq in seqs:\n",
    "        #     seq['y'] = seq['y'][altered_gpfa.has_spikes_bool, :]\n",
    "\n",
    "        seqs, ll = gpfa_core.exact_inference_with_ll(\n",
    "            seqs, altered_gpfa.params_estimated, get_ll=True\n",
    "        )\n",
    "        Corth, seqs = gpfa_core.orthonormalize(gpfa_model.params_estimated, seqs)\n",
    "\n",
    "        outs = {x: seqs[x] for x in [\"y\", \"latent_variable\", \"latent_variable_orth\"]}\n",
    "\n",
    "        for n_orth_latent in n_orth_latents:\n",
    "            for i_trial in range(n_test_trials):\n",
    "                pred = (\n",
    "                    Corth[leave_out_neuron, : (n_orth_latent + 1)]\n",
    "                    @ outs[\"latent_variable_orth\"][i_trial][: (n_orth_latent + 1)]\n",
    "                    + gpfa_model.params_estimated[\"d\"][leave_out_neuron]\n",
    "                )\n",
    "                predictions[\n",
    "                    f\"y_test_predictions_{n_orth_latent}outof{n_latents}latents\"\n",
    "                ][i_trial][leave_out_neuron] = pred\n",
    "\n",
    "    # Compute errors\n",
    "    for n_orth_latent in n_orth_latents:\n",
    "        for i_trial in range(n_test_trials):\n",
    "            errors[f\"{n_orth_latent}outof{n_latents}latents\"] += np.sum(\n",
    "                (\n",
    "                    predictions[\n",
    "                        f\"y_test_predictions_{n_orth_latent}outof{n_latents}latents\"\n",
    "                    ][i_trial]\n",
    "                    - predictions[f\"y_test\"][i_trial]\n",
    "                )\n",
    "                ** 2\n",
    "            )\n",
    "    return errors, predictions"
   ]
  },
  {
   "cell_type": "code",
   "execution_count": null,
   "metadata": {
    "id": "mENYWvQN3vqo"
   },
   "outputs": [],
   "source": [
    "# Run leave-neuron-out for reduced GPFA model\n",
    "errors, predictions = compute_leave_out_neuron_validation(\n",
    "    gpfas[n_latents_to_try[-1]], spike_trains[n_train_trials:], n_latents_to_try\n",
    ")\n",
    "\n",
    "# Run leave-neuron-out for different dim GPFA models\n",
    "for n_latents in n_latents_to_try:\n",
    "    these_errors, these_predictions = compute_leave_out_neuron_validation(\n",
    "        gpfas[n_latents], spike_trains[n_train_trials:]\n",
    "    )\n",
    "    errors = {**errors, **these_errors}\n",
    "    predictions = {**predictions, **these_predictions}"
   ]
  },
  {
   "cell_type": "code",
   "execution_count": null,
   "metadata": {
    "id": "m7BanxnZ3vzG"
   },
   "outputs": [],
   "source": [
    "fig, ax = plt.subplots(1, 1)\n",
    "ax.plot(\n",
    "    n_latents_to_try, [errors[f\"{i}outof{i}latents\"] for i in n_latents_to_try], \"-ok\"\n",
    ")\n",
    "ax.plot(\n",
    "    n_latents_to_try,\n",
    "    [errors[f\"{i}outof{n_latents_to_try[-1]}latents\"] for i in n_latents_to_try],\n",
    "    \"-og\",\n",
    ")\n",
    "ax.legend([\"GPFA\", \"Reduced GPFA\"])\n",
    "ax.set(xlabel=\"Latent state dimensionality\", ylabel=\"Prediction error\");"
   ]
  },
  {
   "cell_type": "code",
   "execution_count": null,
   "metadata": {
    "id": "N-KjgO5qpooc"
   },
   "outputs": [],
   "source": [
    "[errors[f\"{i}outof{i}latents\"] for i in n_latents_to_try]"
   ]
  },
  {
   "cell_type": "markdown",
   "metadata": {
    "id": "Z2hSNwHpKmeI"
   },
   "source": [
    "**TO-DO:** What underlying dimensionality would you assume the neural data has based on these plots? \n",
    "\n",
    "Do the log-likelihood and prediction errors give similar results? Why might you use one over the other? "
   ]
  },
  {
   "cell_type": "markdown",
   "metadata": {
    "jp-MarkdownHeadingCollapsed": true,
    "tags": []
   },
   "source": [
    "## Section 3: Investigating real neural data "
   ]
  },
  {
   "cell_type": "markdown",
   "metadata": {
    "id": "gImSj7eJeTUc"
   },
   "source": [
    "We will now attempt to apply GPFA to actual neural data.\n",
    "\n",
    "*Note that you have to do very minimal coding in this section, instead you'll mainly be inspecting output of different analysis.*\n",
    "\n",
    "The dataset we will be using is from [3] so please check there for more details about the experiment.\n",
    "\n",
    "The monkey reached in 8 directions to the angles (30 π, 70 π, 110 π, 150 π, 190 π, 230 π, 310 π, 350 π) while motor cortical neural data was recorded. We have 182 trials for each of the 8 reaching angles. For each trial, we have the monkey's arm trajectory over time and the neural data from 98 neurons. The neural data includes both well-isolated single-neuron units (~30% of all units), as well as multi-neuron units.  On each trial, both the neural data and arm trajectory are taken from 300 ms before movement onset until 100 ms after movement end."
   ]
  },
  {
   "cell_type": "markdown",
   "metadata": {},
   "source": [
    "### Section 3.1: Load & visualize neural data "
   ]
  },
  {
   "cell_type": "markdown",
   "metadata": {
    "id": "8b83k12SLRDx"
   },
   "source": [
    "We load in the data below. `data` is a numpy array of shape trials x reaches (182 x 8). Each entry has a tuple of the data for that number trial and that reach direction. The first element of the tuple is the trial id. The second element is a spikes matrix, of shape neurons by time bins (97 by varies). Each time bin is 1ms, a zero entry indicates that the unit did not spike in that bin, whereas a one indicates that it did spike one. "
   ]
  },
  {
   "cell_type": "code",
   "execution_count": null,
   "metadata": {
    "id": "5rn9SmIhslWO"
   },
   "outputs": [],
   "source": [
    "!gdown --id 1plgmaQkY58oC9bS7uaV1cLHCTxT6Elle\n",
    "\n",
    "data_all = sio.loadmat(\"/content/dec_G20040508.mat\")\n",
    "\n",
    "data = data_all[\"trial\"]\n",
    "\n",
    "n_reaches = 8\n",
    "n_trials = 182\n",
    "n_neurons = 97\n",
    "movement_onset = 0.3  # s after data starts\n",
    "movement_offset = 0.1  # s before data ends\n",
    "\n",
    "# Set up bin size in format required by GPFA\n",
    "time_bin_size = 0.02\n",
    "bin_size = (time_bin_size * 1000) * pq.ms"
   ]
  },
  {
   "cell_type": "markdown",
   "metadata": {
    "id": "AxnJXevgYO-2"
   },
   "source": [
    "Let's process the spikes into the form required by GPFA."
   ]
  },
  {
   "cell_type": "code",
   "execution_count": null,
   "metadata": {
    "id": "lnHoxxMcryWS"
   },
   "outputs": [],
   "source": [
    "# Process data by reach\n",
    "\n",
    "spike_trains = np.empty(shape=(n_reaches, n_trials), dtype=object)\n",
    "\n",
    "for i_reach in range(n_reaches):\n",
    "\n",
    "    for i_trial in range(n_trials):\n",
    "\n",
    "        spike_trains[i_reach, i_trial] = [None] * n_neurons\n",
    "\n",
    "        spikes = data[i_trial, i_reach][1]\n",
    "\n",
    "        for i_neuron in range(n_neurons):\n",
    "\n",
    "            spike_trains[i_reach, i_trial][i_neuron] = (\n",
    "                np.where(spikes[i_neuron])[0] / 1000\n",
    "            )\n",
    "\n",
    "            # Get length of trial\n",
    "            t_stop = spikes.shape[1] / 1000\n",
    "\n",
    "            # Round up to nearest bin\n",
    "            t_stop = (t_stop // time_bin_size + 1) * time_bin_size\n",
    "\n",
    "            # Convert to special format\n",
    "            spike_trains[i_reach, i_trial][i_neuron] = neo.SpikeTrain(\n",
    "                spike_trains[i_reach][i_trial][i_neuron], units=\"sec\", t_stop=t_stop\n",
    "            )"
   ]
  },
  {
   "cell_type": "markdown",
   "metadata": {},
   "source": [
    "### Section 3.2: Fitting GPFA"
   ]
  },
  {
   "cell_type": "markdown",
   "metadata": {
    "id": "vIZtncNMaH7E"
   },
   "source": [
    "Let's fit one GPFA model for all reach directions. In [1], they fit a different GPFA model for each reach but we'll fit on all reaches so we can examine low-d tractories for different reach directions. \n",
    "\n",
    "We will use the first 145 trials of each reach for training data and the last 37 for testing data.\n",
    "\n",
    "Fitting this model is very time-consuming so we have done it for you and you can load it in. We used this code:\n",
    "\n",
    "```\n",
    "np.random.seed(2)\n",
    "\n",
    "n_train_trials = 145\n",
    "n_test_trials = n_trials - n_train_trials\n",
    "\n",
    "# Initialize GPFA\n",
    "n_latents = 15\n",
    "gpfa = GPFA(bin_size=bin_size, x_dim=n_latents)\n",
    "\n",
    "# Fit GPFA\n",
    "gpfa.fit(spike_trains[:, :n_train_trials].reshape((-1,)))\n",
    "\n",
    "# Save file\n",
    "with open('neural_data_15_latents.pickle', 'wb') as handle:\n",
    "    pickle.dump(gpfa, handle, protocol=pickle.HIGHEST_PROTOCOL)\n",
    "```"
   ]
  },
  {
   "cell_type": "code",
   "execution_count": null,
   "metadata": {
    "id": "9ybYi0lTyxd6"
   },
   "outputs": [],
   "source": [
    "!gdown --id 1yHT42ncPDwa8zqUrlZGrY-VHLBhrsvUJ\n",
    "\n",
    "n_train_trials = 145\n",
    "n_test_trials = n_trials - n_train_trials\n",
    "n_latents = 15\n",
    "\n",
    "with open(\"/content/neural_data_15_latents.pickle\", \"rb\") as handle:\n",
    "    gpfa = pickle.load(handle)"
   ]
  },
  {
   "cell_type": "markdown",
   "metadata": {
    "id": "RDpGCmcic7UM"
   },
   "source": [
    "Let's get the trajectories (both orthogonal and standard) and square rooted binned neural data for the training and test trials.\n"
   ]
  },
  {
   "cell_type": "code",
   "execution_count": null,
   "metadata": {
    "id": "9K0z1Fwlc64s"
   },
   "outputs": [],
   "source": [
    "outs = gpfa.transform(\n",
    "    spike_trains[:, :n_train_trials].reshape((-1,)),\n",
    "    returned_data=[\"latent_variable\", \"latent_variable_orth\", \"y\"],\n",
    ")\n",
    "\n",
    "latent_trajectories_train, latent_trajectories_orth_train, sqrt_spike_counts_train = (\n",
    "    outs[\"latent_variable\"].reshape((n_reaches, n_train_trials)),\n",
    "    outs[\"latent_variable_orth\"].reshape((n_reaches, n_train_trials)),\n",
    "    outs[\"y\"].reshape((n_reaches, n_train_trials)),\n",
    ")\n",
    "\n",
    "outs = gpfa.transform(\n",
    "    spike_trains[:, n_train_trials:].reshape((-1,)),\n",
    "    returned_data=[\"latent_variable\", \"latent_variable_orth\", \"y\"],\n",
    ")\n",
    "\n",
    "latent_trajectories_test, latent_trajectories_orth_test, sqrt_spike_counts_test = (\n",
    "    outs[\"latent_variable\"].reshape((n_reaches, n_test_trials)),\n",
    "    outs[\"latent_variable_orth\"].reshape((n_reaches, n_test_trials)),\n",
    "    outs[\"y\"].reshape((n_reaches, n_test_trials)),\n",
    ")"
   ]
  },
  {
   "cell_type": "markdown",
   "metadata": {},
   "source": [
    "### Section 3.3: Plot individual trials of a given reach direction, aligned to behavioral events"
   ]
  },
  {
   "cell_type": "markdown",
   "metadata": {
    "id": "_TP0V1Qg5UPi"
   },
   "source": [
    "Execute the next cell to visualize the latent trajectories. Specifically, it'll show 10 trials for each latent dimension. You can choose the reach direction to display, whether to align to movement onset or offset, and whether to use the standard latents or the orthogonalized latents. The blue dots show the time of movement onset, the green dots show the time of movement offset.\n",
    "\n",
    "If you want to be able to make each plot outside of the interactive context for easier comparison, you can run the following command:\n",
    "\n",
    "```\n",
    "plot_aligned_latents(i_reach, alignment, latent_type, latent_trajectories_test, \n",
    "                    latent_trajectories_orth_test, n_latents, movement_onset, \n",
    "                    movement_offset, time_bin_size)\n",
    "                    ```\n",
    "\n",
    "Just change `i_reach` to the reach number, `alignment` to either `onset` or `offset`, and `latent_type` to either `standard` or `orthogonal`."
   ]
  },
  {
   "cell_type": "code",
   "execution_count": null,
   "metadata": {
    "cellView": "form",
    "id": "HfAK5oYGhp6v"
   },
   "outputs": [],
   "source": [
    "# @markdown Execute to visualize aligned latents\n",
    "\n",
    "\n",
    "def plot_aligned_latents(\n",
    "    i_reach,\n",
    "    alignment,\n",
    "    latent_type,\n",
    "    latent_trajectories,\n",
    "    latent_trajectories_orth,\n",
    "    n_latents,\n",
    "    movement_onset,\n",
    "    movement_offset,\n",
    "    time_bin_size,\n",
    "):\n",
    "\n",
    "    assert latent_type in [\"orthogonal\", \"standard\"]\n",
    "    assert alignment in [\"offset\", \"onset\"]\n",
    "\n",
    "    n_rows = 3\n",
    "    n_cols = int(np.ceil(n_latents / 3))\n",
    "\n",
    "    latents = (\n",
    "        latent_trajectories_orth[i_reach]\n",
    "        if latent_type == \"orthogonal\"\n",
    "        else latent_trajectories[i_reach]\n",
    "    )\n",
    "\n",
    "    onset_bin = int(movement_onset / time_bin_size)\n",
    "    offset_bin = int(movement_offset / time_bin_size)\n",
    "    min_time_bin = np.min([latents[i_trial].shape[1] for i_trial in range(10)])\n",
    "    max_time_bin = np.max([latents[i_trial].shape[1] for i_trial in range(10)])\n",
    "\n",
    "    fig, axes = plt.subplots(n_rows, n_cols, figsize=(20, 10), sharey=True, sharex=True)\n",
    "    axes = axes.flatten()\n",
    "\n",
    "    if alignment == \"onset\":\n",
    "        t_vec = time_bin_size * np.arange(max_time_bin)\n",
    "    else:\n",
    "        t_vec = time_bin_size * np.arange(-min_time_bin + offset_bin, offset_bin)\n",
    "\n",
    "    for i_latent in range(n_latents):\n",
    "        for i_trial in range(10):\n",
    "\n",
    "            if alignment == \"onset\":\n",
    "                this_t_vec = t_vec[: len(latents[i_trial][i_latent])]\n",
    "                axes[i_latent].plot(\n",
    "                    this_t_vec, latents[i_trial][i_latent], \"k\", alpha=0.2\n",
    "                )\n",
    "                aligned_onset_bin = onset_bin\n",
    "            else:\n",
    "                this_t_vec = t_vec\n",
    "                n_time_bins_drop = latents[i_trial].shape[1] - min_time_bin\n",
    "                aligned_onset_bin = onset_bin - n_time_bins_drop\n",
    "                axes[i_latent].plot(\n",
    "                    t_vec, latents[i_trial][i_latent, n_time_bins_drop:], \"k\", alpha=0.2\n",
    "                )\n",
    "\n",
    "            axes[i_latent].scatter(\n",
    "                this_t_vec[aligned_onset_bin],\n",
    "                latents[i_trial][i_latent, onset_bin],\n",
    "                c=\"b\",\n",
    "            )\n",
    "            axes[i_latent].scatter(\n",
    "                this_t_vec[-offset_bin], latents[i_trial][i_latent, -offset_bin], c=\"g\"\n",
    "            )\n",
    "            axes[i_latent].set(title=f\"Latent dim {i_latent}\")\n",
    "\n",
    "    axes[np.round((n_rows - 1) * n_cols + 0.5 * n_cols).astype(\"int\")].set(\n",
    "        xlabel=\"Time (s)\"\n",
    "    )\n",
    "    axes[\n",
    "        np.round((n_rows - 1) * n_cols + 0.5 * n_cols).astype(\"int\")\n",
    "    ].xaxis.get_label().set_fontsize(20)\n",
    "\n",
    "    fig.suptitle(\n",
    "        f\"{latent_type} latent trajectories on test data aligned to movement {alignment}\",\n",
    "        fontsize=20,\n",
    "    )\n",
    "\n",
    "\n",
    "@widgets.interact(\n",
    "    i_reach=widgets.IntSlider(value=0, min=0, max=7, description=\"Reach Number\"),\n",
    "    alignment=widgets.Dropdown(\n",
    "        options=[(\"Movement onset\", \"onset\"), (\"Movement offset\", \"offset\")],\n",
    "        value=\"onset\",\n",
    "        description=\"Alignment\",\n",
    "    ),\n",
    "    latent_type=widgets.Dropdown(\n",
    "        options=[\"orthogonal\", \"standard\"],\n",
    "        value=\"orthogonal\",\n",
    "        description=\"Latent type\",\n",
    "    ),\n",
    ")\n",
    "def interactive_plot(i_reach, alignment, latent_type):\n",
    "    plot_aligned_latents(\n",
    "        i_reach,\n",
    "        alignment,\n",
    "        latent_type,\n",
    "        latent_trajectories_test,\n",
    "        latent_trajectories_orth_test,\n",
    "        n_latents,\n",
    "        movement_onset,\n",
    "        movement_offset,\n",
    "        time_bin_size,\n",
    "    )"
   ]
  },
  {
   "cell_type": "markdown",
   "metadata": {},
   "source": [
    "### Section 3.4: Plot 3 latent trajectories vs each other"
   ]
  },
  {
   "cell_type": "markdown",
   "metadata": {
    "id": "yvNau5e5bn3k"
   },
   "source": [
    "Let's plot the first 3 orthogonal latents vs each other. We'll first do this for the first reach alone, with blue and green dots denoting movement onset and offset."
   ]
  },
  {
   "cell_type": "code",
   "execution_count": null,
   "metadata": {
    "cellView": "form",
    "id": "GXVcX_lh3eSq"
   },
   "outputs": [],
   "source": [
    "# @markdown Execute to visualize trajectories of single reach direction\n",
    "from matplotlib import animation\n",
    "\n",
    "onset_bin = int(movement_onset / time_bin_size)\n",
    "offset_bin = int(movement_offset / time_bin_size)\n",
    "\n",
    "fig = plt.figure(figsize=(10, 10))\n",
    "ax = fig.add_subplot(1, 1, 1, projection=\"3d\")\n",
    "\n",
    "lines = {}\n",
    "onset_points = {}\n",
    "offset_points = {}\n",
    "for i_trial in range(10):\n",
    "    (lines[i_trial],) = ax.plot([], [], [], \"k\", alpha=0.2)\n",
    "    (onset_points[i_trial],) = ax.plot([], [], [], \"ob\")\n",
    "    (offset_points[i_trial],) = ax.plot([], [], [], \"og\")\n",
    "ax.set(\n",
    "    xlim=[-2, 2],\n",
    "    ylim=[-2, 2],\n",
    "    zlim=[-2, 2],\n",
    "    xlabel=\"Latent dim 1\",\n",
    "    ylabel=\"Latent dim 2\",\n",
    "    zlabel=\"Latent dim 3\",\n",
    ")\n",
    "\n",
    "latents = latent_trajectories_orth_test[i_reach]\n",
    "\n",
    "\n",
    "def drawframe(n):\n",
    "    for i_trial in range(10):\n",
    "        lines[i_trial].set_data(latents[i_trial][0, :n], latents[i_trial][1, :n])\n",
    "        lines[i_trial].set_3d_properties(latents[i_trial][2, :n])\n",
    "        if n >= onset_bin:\n",
    "            onset_points[i_trial].set_data(\n",
    "                [latents[i_trial][0, onset_bin]], [latents[i_trial][1, onset_bin]]\n",
    "            )\n",
    "            onset_points[i_trial].set_3d_properties([latents[i_trial][2, onset_bin]])\n",
    "        if n >= (latents[i_trial].shape[1] - offset_bin):\n",
    "            offset_points[i_trial].set_data(\n",
    "                [latents[i_trial][0, -offset_bin]], [latents[i_trial][1, -offset_bin]]\n",
    "            )\n",
    "            offset_points[i_trial].set_3d_properties([latents[i_trial][2, -offset_bin]])\n",
    "\n",
    "    return (lines[0],)\n",
    "\n",
    "\n",
    "ax.view_init(elev=30, azim=150)\n",
    "\n",
    "anim = animation.FuncAnimation(fig, drawframe, frames=50, interval=100, blit=True)\n",
    "\n",
    "plt.close()\n",
    "anim"
   ]
  },
  {
   "cell_type": "markdown",
   "metadata": {
    "id": "7hbE60sbicZ_"
   },
   "source": [
    "Next, we'll visualize all the reach directions at once. Each thick line shows the mean trajectory for one reach direction, while the fainter lines represent individual trial trajectories.\n",
    "\n",
    "You can use the helper function `plot_all_reach_trajectories(latent_trajectories_orth, n_indiv_trials_to_plot=5, animate=True, elev_amount=60, view_angle=-60)` to visualize this in different ways. If you want a static plot instead of an animation, change animate to False. You can also change `elev_amount` and `view_angle` to change the view of the 3d plot shown."
   ]
  },
  {
   "cell_type": "code",
   "execution_count": null,
   "metadata": {
    "cellView": "form",
    "id": "2O4GKtOu6TvV"
   },
   "outputs": [],
   "source": [
    "# @markdown Execute to get helper function `plot_all_reach_trajectories`\n",
    "\n",
    "\n",
    "def plot_all_reach_trajectories(\n",
    "    trajectories,\n",
    "    n_indiv_trials_to_plot,\n",
    "    animate=True,\n",
    "    elev_amount=60,\n",
    "    view_angle=-60,\n",
    "    n_reaches=n_reaches,\n",
    "    n_test_trials=n_test_trials,\n",
    "    movement_onset=movement_onset,\n",
    "    movement_offset=movement_offset,\n",
    "    time_bin_size=time_bin_size,\n",
    "):\n",
    "    reaches = [30, 70, 110, 150, 190, 230, 310, 350]\n",
    "\n",
    "    # Get mean latent trajectories for each reach direction\n",
    "    min_time_bins = np.min(\n",
    "        [\n",
    "            trajectories.reshape((-1,))[i_trial].shape[1]\n",
    "            for i_trial in range(n_reaches * n_test_trials)\n",
    "        ]\n",
    "    )\n",
    "\n",
    "    mean_trajectories = np.zeros((n_reaches, 3, min_time_bins))\n",
    "    for i_reach in range(n_reaches):\n",
    "        for i_trial in range(0, n_test_trials):\n",
    "            mean_trajectories[i_reach] += trajectories[i_reach, i_trial][\n",
    "                :3, :min_time_bins\n",
    "            ]\n",
    "    mean_trajectories /= n_test_trials\n",
    "\n",
    "    onset_bin = int(movement_onset / time_bin_size)\n",
    "    offset_bin = int(movement_offset / time_bin_size)\n",
    "\n",
    "    fig = plt.figure(figsize=(10, 10))\n",
    "    ax = fig.add_subplot(1, 1, 1, projection=\"3d\")\n",
    "    c_vec = plt.rcParams[\"axes.prop_cycle\"].by_key()[\"color\"]\n",
    "    lines = {}\n",
    "    indiv_trial = {}\n",
    "    onset_points = {}\n",
    "    for i_reach in range(8):\n",
    "        for i_trial in range(0, n_indiv_trials_to_plot):\n",
    "            (indiv_trial[(i_reach, i_trial)],) = ax.plot(\n",
    "                [], [], [], linewidth=1, color=c_vec[i_reach], alpha=0.4\n",
    "            )\n",
    "\n",
    "        (lines[i_reach],) = ax.plot(\n",
    "            [],\n",
    "            [],\n",
    "            [],\n",
    "            linewidth=2,\n",
    "            color=c_vec[i_reach],\n",
    "            label=f\"{reaches[i_reach]} degrees reach\",\n",
    "        )\n",
    "        (onset_points[i_reach],) = ax.plot([], [], [], \"ob\")\n",
    "    ax.set(\n",
    "        xlim=[-2, 2],\n",
    "        ylim=[-2, 2],\n",
    "        zlim=[-2, 2],\n",
    "        xlabel=\"Latent dim 1\",\n",
    "        ylabel=\"Latent dim 2\",\n",
    "        zlabel=\"Latent dim 3\",\n",
    "    )\n",
    "    plt.legend()\n",
    "\n",
    "    def drawframe(n):\n",
    "        for i_reach in range(8):\n",
    "            for i_trial in range(0, n_indiv_trials_to_plot):\n",
    "                indiv_trial[(i_reach, i_trial)].set_data(\n",
    "                    trajectories[i_reach, i_trial][0, :n],\n",
    "                    trajectories[i_reach, i_trial][1, :n],\n",
    "                )\n",
    "                indiv_trial[(i_reach, i_trial)].set_3d_properties(\n",
    "                    trajectories[i_reach, i_trial][2, :n]\n",
    "                )\n",
    "\n",
    "            lines[i_reach].set_data(\n",
    "                mean_trajectories[i_reach][0, :n], mean_trajectories[i_reach][1, :n]\n",
    "            )\n",
    "            lines[i_reach].set_3d_properties(mean_trajectories[i_reach][2, :n])\n",
    "            if n >= onset_bin:\n",
    "                onset_points[i_reach].set_data(\n",
    "                    [mean_trajectories[i_reach][0, onset_bin]],\n",
    "                    [mean_trajectories[i_reach][1, onset_bin]],\n",
    "                )\n",
    "                onset_points[i_reach].set_3d_properties(\n",
    "                    [mean_trajectories[i_reach][2, onset_bin]]\n",
    "                )\n",
    "\n",
    "        return (lines[0],)\n",
    "\n",
    "    ax.view_init(elev=elev_amount, azim=view_angle)\n",
    "\n",
    "    if animate:\n",
    "        anim = animation.FuncAnimation(\n",
    "            fig, drawframe, frames=50, interval=100, blit=True\n",
    "        )\n",
    "        plt.close()\n",
    "        return anim\n",
    "\n",
    "    else:\n",
    "        drawframe(60)"
   ]
  },
  {
   "cell_type": "code",
   "execution_count": null,
   "metadata": {
    "id": "cteczV4M-EZx"
   },
   "outputs": [],
   "source": [
    "anim = plot_all_reach_trajectories(\n",
    "    latent_trajectories_orth_test,\n",
    "    n_indiv_trials_to_plot=5,\n",
    "    animate=True,\n",
    "    elev_amount=30,\n",
    "    view_angle=150,\n",
    ")\n",
    "anim"
   ]
  },
  {
   "cell_type": "markdown",
   "metadata": {
    "id": "veX6VKejjmYP"
   },
   "source": [
    "**TO-DO:** Do you find this visualization technique helpful for getting a handle on what the latent trajectories look like? \n",
    "\n",
    "Describe what you see - what happens over time and how does it vary by reach? Does it seem like the neural trajectories are different for different reaches? If so, are they well separated? That is, would you be able to tell what the reach direction was just from observing a single trial trajectory? \n",
    "\n",
    "Does the relationship of the mean neural trajectories relate to the relationship of the reach directions?\n"
   ]
  },
  {
   "cell_type": "markdown",
   "metadata": {
    "jp-MarkdownHeadingCollapsed": true,
    "tags": []
   },
   "source": [
    "## Section 4: Comparing GPFA, PCA & FA on real neural data"
   ]
  },
  {
   "cell_type": "markdown",
   "metadata": {
    "id": "0YG3F9x6RKj7"
   },
   "source": [
    "Yu et al. argue that GPFA is superior to existing two-stage methods for dimensionality reduction and visualization of neuronal population dynamics, where data are first smoothed and then transformed using a method that is insensitive to time-dependence in the data. To see this point, perform PCA and FA on the data so we can compare it to the GPFA results."
   ]
  },
  {
   "cell_type": "markdown",
   "metadata": {},
   "source": [
    "### Section 4.1: Perform Principal Components Analysis (PCA) and Factor Analysis (FA) on the data"
   ]
  },
  {
   "cell_type": "markdown",
   "metadata": {
    "id": "vsUzjpiB5M8s"
   },
   "source": [
    "Yu et al. argue that GPFA is superior to existing two-stage methods for dimensionality reduction and visualization of neuronal population dynamics, where data are first smoothed and then transformed using a method that is insensitive to time-dependence in the data, such as PCA or FA. \n",
    "\n",
    "Let's do the first step of smoothing the data first. We have already returned the binned and square-rooted spike counts from the transform method. As in [1], we will smooth the binned square-rooted spike times over time using a Gaussian filter.  \n",
    "\n",
    " "
   ]
  },
  {
   "cell_type": "code",
   "execution_count": null,
   "metadata": {
    "id": "U_T4ngWI5N9-"
   },
   "outputs": [],
   "source": [
    "smoothed_spikes_train = np.zeros_like(sqrt_spike_counts_train)\n",
    "smoothed_spikes_test = np.zeros_like(sqrt_spike_counts_test)\n",
    "smooth_sigma = 0.02 / time_bin_size  # 20 ms to bins\n",
    "\n",
    "for i_reach in range(n_reaches):\n",
    "    for i_trial in range(n_train_trials):\n",
    "        smoothed_spikes_train[i_reach, i_trial] = scipy.ndimage.gaussian_filter1d(\n",
    "            sqrt_spike_counts_train[i_reach, i_trial], smooth_sigma, axis=1\n",
    "        )\n",
    "    for i_trial in range(n_test_trials):\n",
    "        smoothed_spikes_test[i_reach, i_trial] = scipy.ndimage.gaussian_filter1d(\n",
    "            sqrt_spike_counts_test[i_reach, i_trial], smooth_sigma, axis=1\n",
    "        )\n",
    "\n",
    "# Visualize for first trial\n",
    "i_trial = 0\n",
    "i_reach = 0\n",
    "fig, axes = plt.subplots(1, 2, figsize=(10, 5), sharey=True)\n",
    "\n",
    "axes[0].pcolormesh(sqrt_spike_counts_train[i_reach, i_trial], cmap=\"gray_r\")\n",
    "axes[1].pcolormesh(smoothed_spikes_train[i_reach, i_trial], cmap=\"gray_r\")\n",
    "\n",
    "axes[0].set(\n",
    "    title=\"Binned & square-rooted spike counts\",\n",
    "    ylabel=\"Neuron\",\n",
    "    xlabel=\"Time (s)\",\n",
    "    xticks=np.arange(0, sqrt_spike_counts_train[i_reach, i_trial].shape[1], 5),\n",
    "    xticklabels=np.arange(0, sqrt_spike_counts_train[i_reach, i_trial].shape[1], 5)\n",
    "    * time_bin_size,\n",
    ")\n",
    "\n",
    "axes[1].set(\n",
    "    title=\"Smoothed with Gaussian filter\",\n",
    "    ylabel=\"Neuron\",\n",
    "    xlabel=\"Time (s)\",\n",
    "    xticks=np.arange(0, sqrt_spike_counts_train[i_reach, i_trial].shape[1], 5),\n",
    "    xticklabels=np.arange(0, sqrt_spike_counts_train[i_reach, i_trial].shape[1], 5)\n",
    "    * time_bin_size,\n",
    ");"
   ]
  },
  {
   "cell_type": "markdown",
   "metadata": {
    "id": "a6mrawOyKQIZ"
   },
   "source": [
    "**TO-DO:** Perform PCA and FA on the smoothed train spike data. Transform the test data and save the matrices as pc_transform and fa_transform. \n",
    "\n",
    "We want to perform dimensionality reduction over the neurons so each neuron is a feature. Each sample is a different data point - we can now combine over trials because the temporal structure no longer matters. We first transform the data to be what sklearn PCA & FA expect: an array of `n_samples` by `n_features`"
   ]
  },
  {
   "cell_type": "code",
   "execution_count": null,
   "metadata": {
    "id": "B4jqhadWAXjX"
   },
   "outputs": [],
   "source": [
    "# Transform data to correct format\n",
    "input_data_train = []\n",
    "trial_ids_train = []\n",
    "input_data_test = []\n",
    "trial_ids_test = []\n",
    "for i_reach in range(n_reaches):\n",
    "    for i_trial in range(n_train_trials):\n",
    "        input_data_train.append(smoothed_spikes_train[i_reach, i_trial].T)\n",
    "        trial_ids_train.append(\n",
    "            i_trial * np.ones(smoothed_spikes_train[i_reach, i_trial].T.shape[0])\n",
    "        )\n",
    "\n",
    "    for i_trial in range(n_test_trials):\n",
    "        input_data_test.append(smoothed_spikes_test[i_reach, i_trial].T)\n",
    "        trial_ids_test.append(\n",
    "            i_trial * np.ones(smoothed_spikes_test[i_reach, i_trial].T.shape[0])\n",
    "        )\n",
    "\n",
    "input_data_train = np.concatenate(input_data_train)\n",
    "input_data_test = np.concatenate(input_data_test)\n",
    "trial_ids_train = np.concatenate(trial_ids_train)\n",
    "trial_ids_test = np.concatenate(trial_ids_test)\n",
    "\n",
    "\n",
    "# TO-DO: Fit PCA & FA models\n",
    "pca = PCA(...)  # your code here\n",
    "# your code to fit pca here\n",
    "pc_transform = ...  # your code here\n",
    "\n",
    "fa = FactorAnalysis(...)  # your code here\n",
    "# your code to fit pca here\n",
    "fa_transform = ...  # your code here\n",
    "\n",
    "\n",
    "# Transform back to original format so we can plot by trial\n",
    "pca_trajectories_test = np.zeros_like(latent_trajectories_orth_test)\n",
    "fa_trajectories_test = np.zeros_like(latent_trajectories_orth_test)\n",
    "\n",
    "current_ind = 0\n",
    "for i_reach in range(n_reaches):\n",
    "    for i_trial in range(n_test_trials):\n",
    "        trial_len = latent_trajectories_orth_test[i_reach, i_trial].shape[1]\n",
    "\n",
    "        pca_trajectories_test[i_reach, i_trial] = pc_transform[\n",
    "            current_ind : current_ind + trial_len\n",
    "        ].T\n",
    "        fa_trajectories_test[i_reach, i_trial] = fa_transform[\n",
    "            current_ind : current_ind + trial_len\n",
    "        ].T\n",
    "\n",
    "        current_ind += trial_len"
   ]
  },
  {
   "cell_type": "code",
   "execution_count": null,
   "metadata": {
    "id": "3CZlSSxvOzd5"
   },
   "outputs": [],
   "source": [
    "anim = plot_all_reach_trajectories(\n",
    "    pca_trajectories_test,\n",
    "    n_indiv_trials_to_plot=5,\n",
    "    animate=True,\n",
    "    elev_amount=30,\n",
    "    view_angle=150,\n",
    ")\n",
    "anim"
   ]
  },
  {
   "cell_type": "code",
   "execution_count": null,
   "metadata": {
    "id": "apz4Q8rOQhxA"
   },
   "outputs": [],
   "source": [
    "anim = plot_all_reach_trajectories(\n",
    "    fa_trajectories_test,\n",
    "    n_indiv_trials_to_plot=5,\n",
    "    animate=True,\n",
    "    elev_amount=30,\n",
    "    view_angle=150,\n",
    ")\n",
    "anim"
   ]
  },
  {
   "cell_type": "markdown",
   "metadata": {
    "id": "GxsndKlYQy3L"
   },
   "source": [
    "**TO-DO:** Compare the GPFA trajectories to the PCA and FA plots. What's the major visual difference (look at the individual trials, not the trial average)? What difference in the structure of the models explains the visual difference?"
   ]
  },
  {
   "cell_type": "markdown",
   "metadata": {},
   "source": [
    "### Section 4.2: Cross-validated prediction errors vs. dimensionality for GPFA, PCA and FA"
   ]
  },
  {
   "cell_type": "markdown",
   "metadata": {
    "id": "r32M2o9AR-5M"
   },
   "source": [
    "One important neuroscientific question we can ask is what is the dimensionality of activity in primary motor cortex? As above, we turn to leave-neuron-out prediction error for the answer. We have precomputed GPFA results for x_dim = [2, 5, 8, 12, 15, 18, 21, 24, 27, 30]. Here, you will compare the performance of these models to PCA and FA (Figure 5a from [1]).\n",
    "\n",
    "First, we need these prediction errors for GPFA. Fitting these models and computing the prediction error takes an extremely long time so we've done it for you, using this code:\n",
    "\n",
    "```\n",
    "n_latents_to_try = [2, 5, 8, 12, 15, 18, 21, 24, 27, 30]\n",
    "gpfas = {}\n",
    "for n_latents in n_latents_to_try:\n",
    "    gpfas[n_latents] = GPFA(x_dim=n_latents)\n",
    "    # Fit GPFA\n",
    "    gpfas[n_latents].fit(spike_trains[:, :n_train_trials].reshape((-1,)))\n",
    "\n",
    "# Run leave-neuron-out for reduced GPFA model\n",
    "errors, predictions = compute_leave_out_neuron_validation(gpfas[n_latents_to_try[-1]], spike_trains[:, n_train_trials:].reshape((-1,)), n_latents_to_try)\n",
    "\n",
    "# Run leave-neuron-out for different dim GPFA models\n",
    "for n_latents in [15, 18, 21, 24, 27, 30]:\n",
    "    these_errors, these_predictions = compute_leave_out_neuron_validation(gpfas[n_latents], spike_trains[:, n_train_trials:].reshape((-1,)))\n",
    "    errors = {**errors, **these_errors}\n",
    "    predictions = {**predictions, **these_predictions}\n",
    "\n",
    "with open('real_data_latent_search.pickle', 'wb') as handle:\n",
    "    pickle.dump(gpfas, handle, protocol=pickle.HIGHEST_PROTOCOL)\n",
    "with open('real_data_errors.pickle', 'wb') as handle:\n",
    "    pickle.dump(errors, handle, protocol=pickle.HIGHEST_PROTOCOL)\n",
    "with open('real_data_predictions.pickle', 'wb') as handle:\n",
    "    pickle.dump(predictions, handle, protocol=pickle.HIGHEST_PROTOCOL)\n",
    "\n",
    "```\n",
    "You can just download the error file below."
   ]
  },
  {
   "cell_type": "code",
   "execution_count": null,
   "metadata": {
    "id": "nEivYZxpOWco"
   },
   "outputs": [],
   "source": [
    "!gdown --id 1D31pn2DcJmQro29n35XZuFITjB5wp-IW\n",
    "\n",
    "n_latents_to_try = [2, 5, 8, 12, 15, 18, 21, 24, 27, 30]\n",
    "\n",
    "with open(\"/content/real_data_errors.pickle\", \"rb\") as handle:\n",
    "    errors_GPFA = pickle.load(handle)"
   ]
  },
  {
   "cell_type": "markdown",
   "metadata": {
    "id": "GRhiCCGzSyGu"
   },
   "source": [
    "Now we'll move on to PCA and FA. We first need to fit these models for all the latent state dimensionalities. We'll use helper functions `smooth_and_compute_PCA` and `smooth_and_compute_FA` (these combine above code into a function so we can easily change the sigma and number of latents).\n",
    "\n",
    "\n",
    "Then, we'll compute the leave-neuron-out validation for PCA and factor analysis on the test data, using the helper functions `compute_leave_out_neuron_validation_PCA` and `compute_leave_out_neuron_validation_FA` "
   ]
  },
  {
   "cell_type": "code",
   "execution_count": null,
   "metadata": {
    "cellView": "form",
    "id": "zRFaJ0oGEPpY"
   },
   "outputs": [],
   "source": [
    "# @markdown Execute to enable helper functions `smooth_and_compute_PCA` and `smooth_and_compute_FA`\n",
    "def smooth_and_compute_PCA(\n",
    "    sqrt_spike_counts_train, sqrt_spike_counts_test, sigma_in_seconds, n_latents\n",
    "):\n",
    "\n",
    "    # Smooth spike trains\n",
    "    smoothed_spikes_train = np.zeros_like(sqrt_spike_counts_train)\n",
    "    smoothed_spikes_test = np.zeros_like(sqrt_spike_counts_test)\n",
    "    smooth_sigma = sigma_in_seconds / time_bin_size  # 20 ms to bins\n",
    "\n",
    "    for i_reach in range(n_reaches):\n",
    "        for i_trial in range(n_train_trials):\n",
    "            smoothed_spikes_train[i_reach, i_trial] = scipy.ndimage.gaussian_filter1d(\n",
    "                sqrt_spike_counts_train[i_reach, i_trial], smooth_sigma, axis=1\n",
    "            )\n",
    "        for i_trial in range(n_test_trials):\n",
    "            smoothed_spikes_test[i_reach, i_trial] = scipy.ndimage.gaussian_filter1d(\n",
    "                sqrt_spike_counts_test[i_reach, i_trial], smooth_sigma, axis=1\n",
    "            )\n",
    "\n",
    "    # Transform data to correct format\n",
    "    input_data_train = []\n",
    "    trial_ids_train = []\n",
    "    input_data_test = []\n",
    "    trial_ids_test = []\n",
    "    for i_reach in range(n_reaches):\n",
    "        for i_trial in range(n_train_trials):\n",
    "            input_data_train.append(smoothed_spikes_train[i_reach, i_trial].T)\n",
    "            trial_ids_train.append(\n",
    "                i_trial * np.ones(smoothed_spikes_train[i_reach, i_trial].T.shape[0])\n",
    "            )\n",
    "\n",
    "        for i_trial in range(n_test_trials):\n",
    "            input_data_test.append(smoothed_spikes_test[i_reach, i_trial].T)\n",
    "            trial_ids_test.append(\n",
    "                i_trial * np.ones(smoothed_spikes_test[i_reach, i_trial].T.shape[0])\n",
    "            )\n",
    "\n",
    "    input_data_train = np.concatenate(input_data_train)\n",
    "    input_data_test = np.concatenate(input_data_test)\n",
    "    trial_ids_train = np.concatenate(trial_ids_train)\n",
    "    trial_ids_test = np.concatenate(trial_ids_test)\n",
    "\n",
    "    # Fit PCA & FA models\n",
    "    pca = PCA(n_components=n_latents)\n",
    "    pca.fit(input_data_train)\n",
    "    pc_transform = pca.transform(input_data_test)\n",
    "\n",
    "    # Transform back to original format so we can plot by trial\n",
    "    pca_trajectories_test = np.zeros_like(latent_trajectories_orth_test)\n",
    "\n",
    "    current_ind = 0\n",
    "    for i_reach in range(n_reaches):\n",
    "        for i_trial in range(n_test_trials):\n",
    "            trial_len = latent_trajectories_orth_test[i_reach, i_trial].shape[1]\n",
    "\n",
    "            pca_trajectories_test[i_reach, i_trial] = pc_transform[\n",
    "                current_ind : current_ind + trial_len\n",
    "            ].T\n",
    "\n",
    "            current_ind += trial_len\n",
    "\n",
    "    return pca, pca_trajectories_test, smoothed_spikes_train, smoothed_spikes_test\n",
    "\n",
    "\n",
    "def smooth_and_compute_FA(\n",
    "    sqrt_spike_counts_train, sqrt_spike_counts_test, sigma_in_seconds, n_latents\n",
    "):\n",
    "\n",
    "    # Smooth spike trains\n",
    "    smoothed_spikes_train = np.zeros_like(sqrt_spike_counts_train)\n",
    "    smoothed_spikes_test = np.zeros_like(sqrt_spike_counts_test)\n",
    "    smooth_sigma = sigma_in_seconds / time_bin_size  # 20 ms to bins\n",
    "\n",
    "    for i_reach in range(n_reaches):\n",
    "        for i_trial in range(n_train_trials):\n",
    "            smoothed_spikes_train[i_reach, i_trial] = scipy.ndimage.gaussian_filter1d(\n",
    "                sqrt_spike_counts_train[i_reach, i_trial], smooth_sigma, axis=1\n",
    "            )\n",
    "        for i_trial in range(n_test_trials):\n",
    "            smoothed_spikes_test[i_reach, i_trial] = scipy.ndimage.gaussian_filter1d(\n",
    "                sqrt_spike_counts_test[i_reach, i_trial], smooth_sigma, axis=1\n",
    "            )\n",
    "\n",
    "    # Transform data to correct format\n",
    "    input_data_train = []\n",
    "    trial_ids_train = []\n",
    "    input_data_test = []\n",
    "    trial_ids_test = []\n",
    "    for i_reach in range(n_reaches):\n",
    "        for i_trial in range(n_train_trials):\n",
    "            input_data_train.append(smoothed_spikes_train[i_reach, i_trial].T)\n",
    "            trial_ids_train.append(\n",
    "                i_trial * np.ones(smoothed_spikes_train[i_reach, i_trial].T.shape[0])\n",
    "            )\n",
    "\n",
    "        for i_trial in range(n_test_trials):\n",
    "            input_data_test.append(smoothed_spikes_test[i_reach, i_trial].T)\n",
    "            trial_ids_test.append(\n",
    "                i_trial * np.ones(smoothed_spikes_test[i_reach, i_trial].T.shape[0])\n",
    "            )\n",
    "\n",
    "    input_data_train = np.concatenate(input_data_train)\n",
    "    input_data_test = np.concatenate(input_data_test)\n",
    "    trial_ids_train = np.concatenate(trial_ids_train)\n",
    "    trial_ids_test = np.concatenate(trial_ids_test)\n",
    "\n",
    "    # Fit PCA & FA models\n",
    "    fa = FactorAnalysis(n_components=n_latents)\n",
    "    fa.fit(input_data_train)\n",
    "    fa_transform = fa.transform(input_data_test)\n",
    "\n",
    "    # Transform back to original format so we can plot by trial\n",
    "    fa_trajectories_test = np.zeros_like(latent_trajectories_orth_test)\n",
    "\n",
    "    current_ind = 0\n",
    "    for i_reach in range(n_reaches):\n",
    "        for i_trial in range(n_test_trials):\n",
    "            trial_len = latent_trajectories_orth_test[i_reach, i_trial].shape[1]\n",
    "\n",
    "            fa_trajectories_test[i_reach, i_trial] = fa_transform[\n",
    "                current_ind : current_ind + trial_len\n",
    "            ].T\n",
    "\n",
    "            current_ind += trial_len\n",
    "\n",
    "    return fa, fa_trajectories_test, smoothed_spikes_train, smoothed_spikes_test"
   ]
  },
  {
   "cell_type": "code",
   "execution_count": null,
   "metadata": {
    "cellView": "form",
    "id": "2Hc4c_ZtS_Rt"
   },
   "outputs": [],
   "source": [
    "# @markdown Execute to enable helper functions `compute_leave_out_neuron_validation_PCA` and `compute_leave_out_neuron_validation_FA`\n",
    "\n",
    "\n",
    "def compute_leave_out_neuron_validation_PCA(\n",
    "    pca_model, sqrt_spike_counts_test, smoothed_spikes_test\n",
    "):\n",
    "\n",
    "    n_neurons = pca_model.mean_.shape[0]\n",
    "    n_latents = pca_model.components_.shape[0]\n",
    "    n_test_trials = smoothed_spikes_test.shape[0]\n",
    "\n",
    "    # Set up storage\n",
    "    y_test = sqrt_spike_counts_test\n",
    "    error = 0\n",
    "    y_predictions = [None] * n_test_trials\n",
    "    for i_trial in range(n_test_trials):\n",
    "        y_predictions[i_trial] = np.zeros_like(y_test[i_trial])\n",
    "\n",
    "    for leave_out_neuron in range(n_neurons):\n",
    "\n",
    "        # Get indices leaving out this neuron\n",
    "        leave_out_indices = [i for i in range(n_neurons) if i != leave_out_neuron]\n",
    "\n",
    "        for i_trial in range(n_test_trials):\n",
    "\n",
    "            # Transform to lower dimensional space\n",
    "            low_d_latents = (\n",
    "                smoothed_spikes_test[i_trial][leave_out_indices].T\n",
    "                - pca_model.mean_[leave_out_indices]\n",
    "            ) @ pca_model.components_[:, leave_out_indices].T\n",
    "\n",
    "            # Transform back to neural space\n",
    "            pred = (\n",
    "                np.dot(low_d_latents, pca_model.components_[:, leave_out_neuron])\n",
    "                + pca_model.mean_[leave_out_neuron]\n",
    "            )\n",
    "\n",
    "            y_predictions[i_trial][leave_out_neuron] = pred.T\n",
    "\n",
    "    # Compute errors\n",
    "    for i_trial in range(n_test_trials):\n",
    "        error += np.sum((y_predictions[i_trial] - y_test[i_trial]) ** 2)\n",
    "\n",
    "    return error, y_predictions\n",
    "\n",
    "\n",
    "def compute_leave_out_neuron_validation_FA(\n",
    "    fa_model, sqrt_spike_counts_test, smoothed_spikes_test\n",
    "):\n",
    "\n",
    "    n_neurons = fa_model.mean_.shape[0]\n",
    "    n_latents = fa_model.components_.shape[0]\n",
    "    n_test_trials = smoothed_spikes_test.shape[0]\n",
    "\n",
    "    # Set up storage\n",
    "    y_test = sqrt_spike_counts_test\n",
    "    error = 0\n",
    "    y_predictions = [None] * n_test_trials\n",
    "    for i_trial in range(n_test_trials):\n",
    "        y_predictions[i_trial] = np.zeros_like(y_test[i_trial])\n",
    "\n",
    "    for leave_out_neuron in range(n_neurons):\n",
    "\n",
    "        # Get indices leaving out this neuron\n",
    "        leave_out_indices = [i for i in range(n_neurons) if i != leave_out_neuron]\n",
    "\n",
    "        for i_trial in range(n_test_trials):\n",
    "\n",
    "            # Transform to lower dimensional space\n",
    "            Ih = np.eye(len(fa_model.components_[:, leave_out_indices]))\n",
    "\n",
    "            X_transformed = (\n",
    "                smoothed_spikes_test[i_trial][leave_out_indices].T\n",
    "                - fa_model.mean_[leave_out_indices]\n",
    "            )\n",
    "\n",
    "            Wpsi = (\n",
    "                fa_model.components_[:, leave_out_indices]\n",
    "                / fa_model.noise_variance_[leave_out_indices]\n",
    "            )\n",
    "            cov_z = linalg.inv(\n",
    "                Ih + np.dot(Wpsi, fa_model.components_[:, leave_out_indices].T)\n",
    "            )\n",
    "            tmp = np.dot(X_transformed, Wpsi.T)\n",
    "            low_d_latents = np.dot(tmp, cov_z)\n",
    "\n",
    "            # Transform back to neural space\n",
    "            # use the pseudo-inverse to (attempt to) invert the FA transform\n",
    "            # tmp = scipy.linalg.pinv(np.dot(Wpsi.T, cov_z))\n",
    "            # fa_hat = np.dot(fa_latent, tmp) + pca.mean_\n",
    "            pred = (\n",
    "                np.dot(low_d_latents, fa_model.components_[:, leave_out_neuron])\n",
    "                + fa_model.mean_[leave_out_neuron]\n",
    "            )\n",
    "\n",
    "            y_predictions[i_trial][leave_out_neuron] = pred\n",
    "\n",
    "    # Compute errors\n",
    "    for i_trial in range(n_test_trials):\n",
    "        error += np.sum((y_predictions[i_trial] - y_test[i_trial]) ** 2)\n",
    "\n",
    "    return error, y_predictions"
   ]
  },
  {
   "cell_type": "code",
   "execution_count": null,
   "metadata": {
    "id": "s4SeCr6CS_Wu"
   },
   "outputs": [],
   "source": [
    "# Fit & run leave-neuron-out for different models\n",
    "errors_PCA, errors_FA = {}, {}\n",
    "pcas, fas = {}, {}\n",
    "\n",
    "for n_latents in n_latents_to_try:\n",
    "    pcas[n_latents], _, _, smoothed_spikes_test = smooth_and_compute_PCA(\n",
    "        sqrt_spike_counts_train, sqrt_spike_counts_test, 0.02, n_latents\n",
    "    )\n",
    "    errors_PCA[f\"{n_latents}latents\"], _ = compute_leave_out_neuron_validation_PCA(\n",
    "        pcas[n_latents],\n",
    "        sqrt_spike_counts_test.reshape((-1,)),\n",
    "        smoothed_spikes_test.reshape((-1,)),\n",
    "    )\n",
    "\n",
    "    fas[n_latents], _, _, smoothed_spikes_test = smooth_and_compute_FA(\n",
    "        sqrt_spike_counts_train, sqrt_spike_counts_test, 0.02, n_latents\n",
    "    )\n",
    "    errors_FA[f\"{n_latents}latents\"], _ = compute_leave_out_neuron_validation_FA(\n",
    "        fas[n_latents],\n",
    "        sqrt_spike_counts_test.reshape((-1,)),\n",
    "        smoothed_spikes_test.reshape((-1,)),\n",
    "    )"
   ]
  },
  {
   "cell_type": "code",
   "execution_count": null,
   "metadata": {
    "id": "2GMEu93_CSRX"
   },
   "outputs": [],
   "source": [
    "fig, ax = plt.subplots(1, 1)\n",
    "ax.plot(n_latents_to_try, [errors_PCA[f\"{i}latents\"] for i in n_latents_to_try], \"--or\")\n",
    "ax.plot(n_latents_to_try, [errors_FA[f\"{i}latents\"] for i in n_latents_to_try], \"-og\")\n",
    "ax.plot(\n",
    "    n_latents_to_try,\n",
    "    [errors_GPFA[f\"{i}outof{i}latents\"] for i in n_latents_to_try],\n",
    "    \"--ok\",\n",
    ")\n",
    "ax.plot(\n",
    "    n_latents_to_try,\n",
    "    [errors_GPFA[f\"{i}outof{n_latents_to_try[-1]}latents\"] for i in n_latents_to_try],\n",
    "    \"-ok\",\n",
    ")\n",
    "ax.legend([\"PCA\", \"FA\", \"GPFA\", \"Reduced GPFA\"])\n",
    "ax.set(xlabel=\"Latent state dimensionality\", ylabel=\"Prediction error\");"
   ]
  },
  {
   "cell_type": "markdown",
   "metadata": {
    "id": "1GXfSH_USHX7"
   },
   "source": [
    "**TO-DO:** From this plot, what can you conclude about the dimensionality of the latent state driving activity in the recorded neurons? Do the different models agree or disagree about this dimensionality? Which result do you think you should trust, and why?\n",
    "\n",
    "**TO-DO:** Why are we using prediction error here instead of log-likelihood?"
   ]
  },
  {
   "cell_type": "markdown",
   "metadata": {},
   "source": [
    "### Section 4.3: PCA and FA performance as a function of kernel width"
   ]
  },
  {
   "cell_type": "markdown",
   "metadata": {
    "id": "OhIpOxciPjS1"
   },
   "source": [
    "In Figure 5b-c, Yu et al. show that prediction errors change as a function of the kernel width chosen for PCA and FA. Is that true in our data as well?"
   ]
  },
  {
   "cell_type": "code",
   "execution_count": null,
   "metadata": {
    "id": "1TZGEfMvQHGl"
   },
   "outputs": [],
   "source": [
    "# Fit & run leave-neuron-out for different models\n",
    "errors_PCA, errors_FA = {}, {}\n",
    "pcas, fas = {}, {}\n",
    "\n",
    "n_latents_to_try = [10, 15]\n",
    "kernel_widths_to_try = [0.01, 0.02, 0.04, 0.06, 0.08, 0.1]\n",
    "for n_latents in n_latents_to_try:\n",
    "    for kernel_width in kernel_widths_to_try:\n",
    "        pcas[n_latents], _, _, smoothed_spikes_test = smooth_and_compute_PCA(\n",
    "            sqrt_spike_counts_train, sqrt_spike_counts_test, kernel_width, n_latents\n",
    "        )\n",
    "        (\n",
    "            errors_PCA[f\"{n_latents}latents_{kernel_width}kernel_width\"],\n",
    "            _,\n",
    "        ) = compute_leave_out_neuron_validation_PCA(\n",
    "            pcas[n_latents],\n",
    "            sqrt_spike_counts_test.reshape((-1,)),\n",
    "            smoothed_spikes_test.reshape((-1,)),\n",
    "        )\n",
    "\n",
    "        fas[n_latents], _, _, smoothed_spikes_test = smooth_and_compute_FA(\n",
    "            sqrt_spike_counts_train, sqrt_spike_counts_test, kernel_width, n_latents\n",
    "        )\n",
    "        (\n",
    "            errors_FA[f\"{n_latents}latents_{kernel_width}kernel_width\"],\n",
    "            _,\n",
    "        ) = compute_leave_out_neuron_validation_FA(\n",
    "            fas[n_latents],\n",
    "            sqrt_spike_counts_test.reshape((-1,)),\n",
    "            smoothed_spikes_test.reshape((-1,)),\n",
    "        )"
   ]
  },
  {
   "cell_type": "code",
   "execution_count": null,
   "metadata": {
    "id": "wyKT9kOLPkRb"
   },
   "outputs": [],
   "source": [
    "fig, axes = plt.subplots(1, 2, figsize=(10, 5), sharey=True)\n",
    "\n",
    "for i, n_latents in enumerate(n_latents_to_try):\n",
    "    pc_error = [\n",
    "        errors_PCA[f\"{n_latents}latents_{kernel_width}kernel_width\"]\n",
    "        for kernel_width in kernel_widths_to_try\n",
    "    ]\n",
    "    axes[i].plot(np.array(kernel_widths_to_try) * 1000, pc_error, \"--r\")\n",
    "    fa_error = [\n",
    "        errors_FA[f\"{n_latents}latents_{kernel_width}kernel_width\"]\n",
    "        for kernel_width in kernel_widths_to_try\n",
    "    ]\n",
    "    axes[i].plot(np.array(kernel_widths_to_try) * 1000, fa_error, \"-g\")\n",
    "    axes[i].set(xlabel=\"Kernel width (ms)\", title=f\"Latent dimensionality {n_latents}\")"
   ]
  },
  {
   "cell_type": "markdown",
   "metadata": {
    "id": "IKVBJeZkPqy2"
   },
   "source": [
    "**TO-DO**: What is the optimal kernel width for this dataset?"
   ]
  }
 ],
 "metadata": {
  "colab": {
   "collapsed_sections": [],
   "name": "NB316QC_Exercise3_Student.ipynb",
   "provenance": [],
   "toc_visible": true
  },
  "kernelspec": {
   "display_name": "Python 3 (ipykernel)",
   "language": "python",
   "name": "python3"
  },
  "language_info": {
   "codemirror_mode": {
    "name": "ipython",
    "version": 3
   },
   "file_extension": ".py",
   "mimetype": "text/x-python",
   "name": "python",
   "nbconvert_exporter": "python",
   "pygments_lexer": "ipython3",
   "version": "3.9.10"
  }
 },
 "nbformat": 4,
 "nbformat_minor": 4
}
