{
 "cells": [
  {
   "cell_type": "markdown",
   "metadata": {
    "id": "a4wUDMuXFQfx"
   },
   "source": [
    "# Exercise 1 - Estimating simple relationships between stimulus & response\n",
    "<hr style=\"height:2pt\">\n",
    "\n",
    "**VERY IMPORTANT** Before starting this tutorial, please go to \"File -> Save As -> Save a Copy in Drive\". This will save a local version that you can edit in your Google Drive. If you edit this version, **it will not save**. Alternatively, you can go to \"Files -> Download -> Download .ipynb\" and work on this locally in jupyter notebook.\n",
    "\n",
    "\n",
    "In this problem set, you will investigate a very simple encoding model to understand the relationship between neural responses and the orientation of a presented drifting grating. \n",
    "\n",
    "In this problem set, you will learn to:\n",
    "- Focus on Gaussian and Poisson likelihoods over scalar variables\n",
    "- Use maximum likelihood estimation\n",
    "- Investigate the impact of priors through comparing maximum a-posteriori estimates to maximum likelihood estimates\n",
    "- Appreciate the value of regularization, and that priors provide such regularization\n",
    "- Understand full posteriors and that those usually become ‘sharper’ with more data (i.e., reflect uncertainty)\n",
    "- Perform frequentist model comparison through cross-validation\n",
    "- Perform Bayesian model comparison through model evidence\n",
    "\n",
    "\n",
    "Once you have completed the exercise, please describe the results of your exercise, and your interpretation of the results _(suggested length: 450-650 words)._ Use figures to help describe your results; please embed the figures in your text description. \n",
    "\n",
    "**Submit the write-up before noon on the day of the next session.**\n",
    "\n",
    "Much of the crucial code is already implemented for you. Just follow the **TO-DO** signs to complete the problem set.\n",
    "\n",
    "\n",
    "*Acknowledgements: This exercise was adapted by Ella Batty based on a previous version by Lucy Lai (graduate student in the Gershman Lab).*"
   ]
  },
  {
   "cell_type": "markdown",
   "metadata": {
    "id": "qXvOBBjZWO7Q"
   },
   "source": [
    "For your convenience as you wrap up, all the to-dos are summarized here. Please note they make more sense in the context below though.\n",
    "\n",
    "\n",
    "1. Derive the equation for the maximum likelihood estimator for $\\lambda_j$. Include in write-up\n",
    "2. Complete the functions `compute_gaussian_MLEs` and `compute_poisson_MLE`\n",
    "3. Why is the Poisson likelihood higher than the Gaussian likelihood? In your write-up, please discuss your answer\n",
    "4. Why are we not using an error function like mean squared error? In your write-up, please discuss your answer\n",
    "5. Complete the function `compute_train_vs_test_likelihoods` below to compute train and test likelihoods for varying numbers of bins\n",
    "6. Based on the two plots above, discuss the following questions in the write-up:\n",
    "    - Can the training log likelihood ever decrease for increasing number of bins? Why or why not?\n",
    "    - For neuron 3, what number of bins leads to the best model according to cross-validation? Describe how you determine this. Compare this to neuron 5\n",
    "7. Complete the function `compute_poisson_MAP`, using equation 3\n",
    "8. Discuss the following in your write-up\n",
    "    - What do $\\alpha$ and $\\beta$ in the Gamma prior of the Poisson model seem to control? \n",
    "    - How does location and variance of prior affect the posterior?\n",
    "    - How does the amount of data affect the interplay between likelihood, prior, and posterior?\n",
    "    - The prior and posterior densities integrate to one (i.e., the areas under the curve sum to one). This does not seem to be the case for the likelihood when plotted over lambda. Why do you think this is the case?\n",
    "9. In your write-up, discuss:\n",
    "    - How does the effect of the prior vary with the variance of the prior?\n",
    "    - What value of firing rate are the MAP estimates pulled towards (from the ML estimates)?\n",
    "    - Does the prior exert more influence with more or less data? Why might that be?\n",
    "10. In your write-up, discuss:\n",
    "    - Why doesn't the MLE estimate change for different variances of the prior?\n",
    "    - With all the training trials (32), does using the prior and MAP estimation always help over the MLE estimation? Does it sometimes help?\n",
    "    - With less data (number of training trials), does the prior/MAP estimation help more or less? Why would this be the case?\n",
    "    - Is there anything we could change to try and make this prior improve performance more? Why might this prior be especially unhelpful for neuron 5?\n",
    "    - How do you think using a prior relates to regularization?\n",
    "11. In your write-up, discuss:\n",
    "    - Do model evidence and cross-validation always pick the same model as best?\n",
    "    - Why might they pick different models if they do?\n",
    "    - What assumptions, if any, does either approach make about the data?\n",
    "    - How data-efficient is either approach?"
   ]
  },
  {
   "cell_type": "code",
   "execution_count": 4,
   "metadata": {
    "id": "nuV1Vxi0FQf1"
   },
   "outputs": [],
   "source": [
    "import ipywidgets as widgets\n",
    "import matplotlib\n",
    "import matplotlib.pyplot as plt\n",
    "import numpy as np\n",
    "import scipy.io as sio\n",
    "import scipy.special\n",
    "import seaborn as sns"
   ]
  },
  {
   "cell_type": "code",
   "execution_count": 6,
   "metadata": {},
   "outputs": [],
   "source": [
    "%matplotlib inline\n",
    "%config InlineBackend.figure_format='retina'"
   ]
  },
  {
   "cell_type": "markdown",
   "metadata": {
    "jp-MarkdownHeadingCollapsed": true,
    "tags": [],
    "toc-hr-collapsed": true
   },
   "source": [
    "## Section 1: Loading & visualizing data"
   ]
  },
  {
   "cell_type": "markdown",
   "metadata": {
    "id": "8MqmX1aBFQf3"
   },
   "source": [
    "We will use the dataset from http://bethgelab.org/datasets/v1gratings/, used in http://bethgelab.org/media/publications/EckerEtAl2010_all.pdf. \n",
    "\n",
    "The experimenters had macaque monkeys view drifting gratings of different orientations while performing extracellular recordings in primary visual cortex (V1). We have the recordings of 6 neurons responding to drifting gratings of 16 different orientations. We will used the total number of spikes during the presentation of each grating (so the summed spikes during the 500ms duration that the stimulus was on).\n",
    "\n",
    "We load in the dataset in the cell below. If you are using Google Colab for this homework, it should download automatically. If you run into problems, try swapping out the id following `!gdown --id` in the first line below with `17YMYOhksunnXqjrQH2rWCKyXfsFnFj4P`. If you are using jupyter notebook locally, you need to download the data from https://drive.google.com/uc?id=1IRZWu7qJNH8Ddsg7dkDdACx_2NAKm1mi into the same folder and comment out the first line.\n",
    "\n",
    "- `ori` is an array of shape (16,), containing the 16 orientations\n",
    "- `spikes` is an array of shape (6, 16, 40), containing the summed spike counts for  6 neurons x 16 orientations x 40 trials per orientation"
   ]
  },
  {
   "cell_type": "code",
   "execution_count": 7,
   "metadata": {
    "id": "Cbq5uCRYFQf3"
   },
   "outputs": [],
   "source": [
    "data = sio.loadmat(\"data/v1_data.mat\")\n",
    "\n",
    "ori = data[\"ori\"].flatten()  # stimulus orientation\n",
    "spikes = data[\"spk\"]  # spike counts\n",
    "\n",
    "n_neurons = 6  # number of neurons\n",
    "n_ori = 16  # number of orientations\n",
    "n_trials = 40  # number of trials per orientation\n",
    "bin_width = 0.5  # time bin for spike counts (s)"
   ]
  },
  {
   "cell_type": "code",
   "execution_count": 13,
   "metadata": {},
   "outputs": [
    {
     "data": {
      "text/plain": [
       "(6, 16, 40)"
      ]
     },
     "execution_count": 13,
     "metadata": {},
     "output_type": "execute_result"
    }
   ],
   "source": [
    "data[\"spk\"].shape"
   ]
  },
  {
   "cell_type": "markdown",
   "metadata": {
    "id": "9h8VqdgrFQf4"
   },
   "source": [
    "Execute the cell below to visualize the tuning curves of the 6 recorded neurons"
   ]
  },
  {
   "cell_type": "code",
   "execution_count": 8,
   "metadata": {
    "id": "RxMDqaO7FQf4",
    "scrolled": true
   },
   "outputs": [
    {
     "data": {
      "image/png": "[encoded data removed]",
      "text/plain": [
       "<Figure size 720x360 with 1 Axes>"
      ]
     },
     "metadata": {
      "image/png": {
       "height": 331,
       "width": 615
      },
      "needs_background": "light"
     },
     "output_type": "display_data"
    }
   ],
   "source": [
    "fig, ax = plt.subplots(1, 1, figsize=(10, 5))\n",
    "\n",
    "# Loop over neurons\n",
    "for i in range(spikes.shape[0]):\n",
    "    # Average spike counts over repetition and convert to firing rate.\n",
    "    tuning_curve = np.mean(spikes[i], axis=1) / bin_width\n",
    "    ax.plot(ori, tuning_curve, label=f\"Neuron {i}\")\n",
    "\n",
    "ax.set(\n",
    "    title=\"Neural responses to drifting gratings\",\n",
    "    xlabel=\"Orientation of grating (degrees)\",\n",
    "    ylabel=\"Firing rate (spks/s)\",\n",
    "    xticks=np.arange(0, 361, 45),\n",
    ")\n",
    "ax.legend();"
   ]
  },
  {
   "cell_type": "markdown",
   "metadata": {
    "tags": []
   },
   "source": [
    "## Section 2: Maximum Likelihood Estimation"
   ]
  },
  {
   "cell_type": "markdown",
   "metadata": {
    "id": "hQLy_GVYFQf5",
    "tags": [],
    "toc-hr-collapsed": true
   },
   "source": [
    "In our data, we have a series of trials with a **presented stimulus $x$**(drifting grating described fully by its orientation) and an **associated neural response $y$** (the summed spike count). Our goal is to model the **conditional probability of the neural response given the stimulus and some model with parameters $\\theta$: $p(y | x, \\theta)$**. We will use a different parameter $\\theta_j$ for each for each orientation $j$ to capture orientation-specific neural responses:\n",
    "\n",
    "$$p(y_j | x_j, \\theta_j)$$\n",
    "\n",
    "We will be using two response models (i.e. probability distributions to capture neural responses). The first assumes that the summed spike count for each orientation is drawn from a *Gaussian distribution* with a different mean, $\\mu_j$, and standard deviation, $\\sigma_j$, for each orientation $j$.  The second assumes that the spike count for each orientation is drawn from a *Poisson distribution* with a different mean, $\\lambda_j$, for each orientation. \n",
    "\n",
    "In this section, we will investigate how to estimate these parameters ($\\mu_j$, $\\sigma_j$, and $\\lambda_j$) using maximum likelihood estimation. We will first go through the math of deriving equations for the maximum likelihood estimators in Section 2.1. Then, in Section 2.2, we will compute these estimates using code and our data. In the third section, we will compare the likelihood given these two models."
   ]
  },
  {
   "cell_type": "markdown",
   "metadata": {},
   "source": [
    "### Section 2.1: Deriving maximum likelihood estimators"
   ]
  },
  {
   "cell_type": "markdown",
   "metadata": {
    "id": "-oOKuAEPFQf6"
   },
   "source": [
    "Recall that to find the maximum likelihood estimate of a parameter $\\theta$, we find the value of that parameter that maximizes the log likelihood:\n",
    "\n",
    "\\begin{align}\n",
    "\\hat{\\theta}_{MLE} = \\text{argmax$_{\\theta}$ } \\log p(y_{j, 1:N_j} | x_j, \\theta)\n",
    "\\end{align}\n",
    "\n",
    "Here we write $y_{j, 1:N_j}$ to include the data from all trials for this grating orientation, trial 1 through trial $N_j$. We can find the parameter that maximizes the log likelihood by taking the derivative of the log-likelihood with respect to that parameter, setting it equal to zero, and solving for the parameter."
   ]
  },
  {
   "cell_type": "markdown",
   "metadata": {
    "id": "SyAqI-RRFQf6"
   },
   "source": [
    "#### Gaussian distribution\n",
    "\n",
    "The Gaussian response model assumes that:\n",
    "\n",
    "\\begin{align}\n",
    "p(y_{j, n} | x_j, \\mu_j, \\sigma_j) &= \\mathcal{N}(y_{j, n} | \\mu_j\\Delta, \\sigma_j^2\\Delta) \\\\\n",
    "&= \\frac{1}{\\sqrt{2\\pi\\sigma_j^2\\Delta}}e^{-\\frac{(y_{j,n} - \\mu_j\\Delta)^2}{2\\sigma_j^2\\Delta}},\n",
    "\\end{align}\n",
    "where $y_{j, n}$ is the spike count for orientation $j$ and trial $n$, $\\mu_j$ is the mean of the Gaussian distribution for orientation $j$, $\\sigma_j$ is the standard deviation of the Gaussian distribution for orientation $j$, and $\\Delta$ is the time bin width in seconds (`bin_width` in our code).\n",
    "\n",
    "We assume the recorded responses to be independent and identically distributed (i.i.d.) across trials. This makes the likelihood for orientation $j$:\n",
    "\\begin{align}\n",
    "p(y_{j, 1:N_j} | x_j, \\mu_j,\\sigma_j) &= \\prod_{n=1}^{N_j}p(y_{j,n} |x_j, \\mu_j, \\sigma_j)\\\\\n",
    "&= \\prod_{n=1}^{N_j} \\left( \\frac{1}{\\sqrt{2\\pi\\sigma_j^2\\Delta}}e^{-\\frac{(y_{j,n} - \\mu_j\\Delta)^2}{2\\sigma_j^2\\Delta}} \\right)\n",
    "\\end{align}\n",
    "\n",
    "We want to find the log-likelihood as it yields the same maximum likelihood parameter, but is easier to work with. The log-likelihood for the Gaussian response model is given by:\n",
    "\n",
    "\\begin{align}\n",
    "logp(y_{j, 1:N_j}|x_j,\\mu_j, \\sigma_j) = -\\frac{N_j}{2}log\\sigma^2_j - \\frac{1}{2\\sigma_j^2\\Delta}\\sum_{n=1}^{N_j}(y_{j,n} - \\mu_j\\Delta)^2 + \\text{const}\n",
    "\\end{align}\n",
    "\n",
    "We now want to find the values of $\\mu_j$ and $\\sigma_j$ that maximize this expression. Note that the first term doen't depend on $\\mu_j$ so we only focus on the second term to estimate $\\mu_j$. This second term is proportional to negative mean squared error, a common error function! The $\\mu_j$ that maximizes this second term is the same one that minimizes mean squared error.\n",
    "\n",
    "Setting the derivative of the log-likelihood with respect to $\\mu_j$ to zero and solving for $\\mu_j$ reveals that its maximum likelihood estimate is independent of $\\sigma_j^2$, and given by\n",
    "\n",
    "\\begin{align}\n",
    "\\hat{\\mu}_{j,ML} = \\frac{1}{N_j\\Delta}\\sum_{n=1}^{N_j}y_{j,n}\\tag{1}\n",
    "\\end{align}"
   ]
  },
  {
   "cell_type": "markdown",
   "metadata": {
    "id": "UY2AD6LUFQf7"
   },
   "source": [
    "Applying the same procedure to find the maximum likelihood estimate of $\\sigma_j^2$ yields \n",
    "\n",
    "\\begin{align}\n",
    "\\hat{\\sigma}_{j, MLE}^2 = \\frac{1}{N_j\\Delta}\\sum_{n=1}^{N_j}(y_{j, n} - \\hat{\\mu}_{j,ML}\\Delta)^2\n",
    "\\tag{2}\n",
    "\\end{align}\n",
    "\n",
    "Note that this estimate is biased, as it doesn't contain Bessel's correction (i.e., a normalization by $(N_j - 1)^{-1}$ rather than $N_j^{-1}$)."
   ]
  },
  {
   "cell_type": "markdown",
   "metadata": {
    "id": "5UlHKgKrFQf7"
   },
   "source": [
    "#### Poisson distribution\n",
    "\n",
    "The Poisson response model assumes that:\n",
    "\n",
    "\\begin{align}\n",
    "p(y_{j, n} | x_j, \\lambda_j) &= Poiss(y_{j, n} | \\lambda_j\\Delta) \\\\\n",
    "&= \\frac{(\\lambda_j\\Delta)^{y_{j,n}}}{y_{j, n}!}e^{-\\lambda_j\\Delta},\n",
    "\\end{align}\n",
    "where $y_{j, n}$ is the spike count for orientation $j$ and trial $n$, $\\lambda_j$ is the mean of the Poisson distribution for orientation $j$, and $\\Delta$ is the time bin width in seconds (`bin_width` in our code).\n",
    "\n",
    "We assume the recorded responses to be independent across trials. This makes the likelihood for orientation $j$ to be given by:\n",
    "\\begin{align}\n",
    "p(y_{j, 1:N_j} | x_j, \\lambda_j) &= \\prod_{n=1}^{N_j}p(y_{j,n} |x_j,\\lambda_j)\\\\\n",
    "&= \\prod_{n=1}^{N_j} \\left( \\frac{(\\lambda_j\\Delta)^{y_{j,n}}}{y_{j, n}!}e^{-\\lambda_j\\Delta} \\right)\n",
    "\\end{align}\n",
    "\n",
    "We want to find the log-likelihood as this is easier to work with:\n",
    "\\begin{align}\n",
    "logp(y_{j, 1:N_j} | x_j, \\lambda_j) &= \\log \\prod_{n=1}^{N_j}(\\frac{(\\lambda_j\\Delta)^{y_{j,n}}}{y_{j, n}!}e^{-\\lambda_j\\Delta}) \\\\\n",
    "&= \\sum_{n=1}^{N_j}\\log \\left( \\frac{(\\lambda_j\\Delta)^{y_{j,n}}}{y_{j, n}!}e^{-\\lambda_j\\Delta} \\right)\\\\\n",
    "&= \\sum_{n=1}^{N_j}(y_{j,n}\\log(\\lambda_j\\Delta) - \\lambda_j\\Delta - \\log(y_{j,n}!))\\\\\n",
    "&= \\log(\\lambda_j\\Delta)\\sum_{n=1}^{N_j}y_{j,n} - N_j\\lambda_j\\Delta - \\sum_{n=1}^{N_j}\\log(y_{j,n}!)\n",
    "\\end{align}"
   ]
  },
  {
   "cell_type": "markdown",
   "metadata": {},
   "source": [
    "**TO-DO: Derive the equation for the maximum likelihood estimator for $\\lambda_j$. Include in write-up**\n",
    "\n",
    "The strategy is the same as above for the Gaussian distribution, take the derivative of the log-likelihood w.r.t $\\lambda_j$, set the result equal to 0, and solve for $\\lambda_j$.\n",
    "\n",
    "1. Derivative of the log-likelihood w.r.t to $\\lambda_j$.\n",
    "\n",
    "\\begin{aligned}\n",
    "\\frac{d}{d \\lambda_j} p(y_{j, 1:N_j} | x_j, \\lambda_j) &= \n",
    "  \\left( \\frac{1}{\\lambda_j \\Delta} \\Delta \\right) \\sum_{n=1}^{N} y_{j,n} - N_j \\Delta - 0 \\\\\n",
    "  &= \\frac{1}{\\lambda_j} \\sum_{n=1}^{N} y_{j,n} - N_j \\Delta\n",
    "\\end{aligned}\n",
    "\n",
    "2. Set equal to zero and solve for $\\lambda_j$.\n",
    "\n",
    "\\begin{aligned}\n",
    "0 &= \\frac{d}{d \\lambda_j} p(y_{j, 1:N_j} | x_j, \\lambda_j) \\\\\n",
    "0 &= \\frac{1}{\\lambda_j} \\sum_{n=1}^{N} y_{j,n} - N_j \\Delta \\\\\n",
    "\\frac{1}{\\lambda_j} \\sum_{n=1}^{N} y_{j,n} &= N_j \\Delta \\\\\n",
    "y &= \\frac{1}{N_j \\Delta} \\sum_{n=1}^{N} y_{j,n}\n",
    "\\end{aligned}\n",
    "\n",
    "Therefore, the MLE for $\\lambda_j$ is just the mean of the summed spike counts for orientation $j$."
   ]
  },
  {
   "cell_type": "markdown",
   "metadata": {},
   "source": [
    "### Section 2.2: Finding MLEs using data"
   ]
  },
  {
   "cell_type": "markdown",
   "metadata": {
    "id": "3r0L20IRFQf8",
    "jp-MarkdownHeadingCollapsed": true,
    "tags": []
   },
   "source": [
    "Now that you have equations for the maximum likelihood estimates of the Gaussian and Poisson from Section 2.1, let's implement them in code to actually estimate these parameters for the first neuron using our data. \n",
    "\n",
    "We will then plot $\\mu_j$ and $\\lambda_j$ over orientation - these are the mean of the Gaussian and Poisson distributions respectively, so we can compare to the actual spike count, where the  blue line shows the mean spike count over trials and the shaded region shows the standard deviation."
   ]
  },
  {
   "cell_type": "code",
   "execution_count": null,
   "metadata": {
    "cellView": "form",
    "id": "nWImuPKGFQf8"
   },
   "outputs": [],
   "source": [
    "# @markdown Execute to enable helper function `visualize_fits`\n",
    "\n",
    "\n",
    "def visualize_fits(\n",
    "    spikes_train,\n",
    "    i_neuron,\n",
    "    spikes_test=None,\n",
    "    fit1=None,\n",
    "    label1=None,\n",
    "    fit2=None,\n",
    "    label2=None,\n",
    "    ax=None,\n",
    "):\n",
    "    \"\"\"Visualize fits of encoding models to neural data\n",
    "\n",
    "    Args:\n",
    "        spikes_train (ndarray): n_neurons x n_oris x n_trials array of training data spike counts\n",
    "        i_neuron (scalar): which neuron to visualize\n",
    "        spikes_test (ndarray): n_neurons x n_oris x n_trials array of testing data spike counts\n",
    "        fit1 (ndarray): n_oris shape array containing the fits for the first encoding model\n",
    "        label1 (str): legend label for fit1\n",
    "        fit2 (ndarray): n_oris shape array containing the fits for the second encoding model (optional)\n",
    "        label2 (str): legend label for fit2 (optional)\n",
    "        ax: matplotlib axis object (optional)\n",
    "\n",
    "    Returns:\n",
    "        Nothing, just makes a plot\n",
    "    \"\"\"\n",
    "\n",
    "    if ax is None:\n",
    "        fig, ax = plt.subplots(1, 1, figsize=(10, 5))\n",
    "\n",
    "    # Raw train data\n",
    "    if spikes_train is not None:\n",
    "        means = np.mean(spikes_train[i_neuron] / bin_width, axis=1)\n",
    "        sds = np.std(spikes_train[i_neuron] / bin_width, axis=1)\n",
    "        ax.plot(ori, means, \"-o\", color=\"tab:blue\", label=\"Raw train data\")\n",
    "        ax.fill_between(ori, means - sds, means + sds, color=\"tab:blue\", alpha=0.2)\n",
    "\n",
    "    # Raw test data\n",
    "    if spikes_test is not None:\n",
    "        means = np.mean(spikes_test[i_neuron] / bin_width, axis=1)\n",
    "        sds = np.std(spikes_test[i_neuron] / bin_width, axis=1)\n",
    "        ax.plot(ori, means, \"-o\", color=\"tab:orange\", label=\"Raw test data\")\n",
    "        ax.fill_between(ori, means - sds, means + sds, color=\"tab:orange\", alpha=0.2)\n",
    "\n",
    "    if fit1 is not None:\n",
    "        ax.plot(ori, fit1, \"-o\", color=\"tab:green\", alpha=0.8, label=label1)\n",
    "\n",
    "    if fit2 is not None:\n",
    "        ax.plot(ori, fit2, \"-o\", color=\"tab:red\", alpha=0.8, label=label2)\n",
    "\n",
    "    ax.set(\n",
    "        xlabel=\"Orientation (degrees)\",\n",
    "        ylabel=\"Firing rate (spks/s)\",\n",
    "        xticks=np.arange(0, 361, 45),\n",
    "    )\n",
    "\n",
    "    ax.legend()"
   ]
  },
  {
   "cell_type": "markdown",
   "metadata": {},
   "source": [
    "#### Gaussian Distribution"
   ]
  },
  {
   "cell_type": "markdown",
   "metadata": {
    "id": "Ml1rkDlcFQf8"
   },
   "source": [
    "**TO-DO: Complete the functions `compute_gaussian_MLEs` and `compute_poisson_MLE`**"
   ]
  },
  {
   "cell_type": "code",
   "execution_count": null,
   "metadata": {
    "id": "_kIw__D7FQf8"
   },
   "outputs": [],
   "source": [
    "def compute_gaussian_MLEs(spikes, i_neuron):\n",
    "    \"\"\"Compute MLE estimates of mu and sigma for Gaussian model\n",
    "\n",
    "    Args:\n",
    "        spikes (ndarray): n_neurons x n_oris x n_trials array of spike counts\n",
    "        i_neuron (scalar): which neuron to estimate parameters for\n",
    "\n",
    "    Returns:\n",
    "        (ndarray, ndarray): (n_oris, ) array of maximum likelihood estimates for mu for each orientation,\n",
    "                            (n_oris, ) array of maximum likelihood estimates for sigma for each orientation\n",
    "\n",
    "    \"\"\"\n",
    "\n",
    "    n_trials = spikes.shape[2]\n",
    "\n",
    "    # Set up array for storing maximum likelihood estimators\n",
    "    gaussian_mu_ML = np.zeros(n_ori)\n",
    "    gaussian_sigma_ML = np.zeros(n_ori)\n",
    "\n",
    "    # Loop over orientation\n",
    "    for i_ori in range(0, n_ori):\n",
    "\n",
    "        # TO DO: compute mu MLE (eq. 1)\n",
    "        gaussian_mu_ML[i_ori] = ...\n",
    "\n",
    "        # TO DO: compute sigma MLE (eq. 2)\n",
    "        gaussian_sigma_ML[i_ori] = ...\n",
    "\n",
    "    return gaussian_mu_ML, gaussian_sigma_ML\n",
    "\n",
    "\n",
    "i_neuron = 0\n",
    "gaussian_mu_ML, gaussian_sigma_ML = compute_gaussian_MLEs(spikes, i_neuron)\n",
    "\n",
    "# Visualize estimates on top of real data\n",
    "visualize_fits(spikes, i_neuron, fit1=gaussian_mu_ML, label1=\"Gaussian ML estimates\")"
   ]
  },
  {
   "cell_type": "markdown",
   "metadata": {
    "id": "osGLXtRgFQf9"
   },
   "source": [
    "#### Poisson distribution"
   ]
  },
  {
   "cell_type": "code",
   "execution_count": null,
   "metadata": {
    "id": "egUMySKfFQf9",
    "scrolled": true
   },
   "outputs": [],
   "source": [
    "def compute_poisson_MLE(spikes, i_neuron):\n",
    "    \"\"\"Compute MLE estimate of lambda for Poisson model\n",
    "\n",
    "    Args:\n",
    "        spikes (ndarray): n_neurons x n_oris x n_trials array of spike counts\n",
    "        i_neuron (scalar): which neuron to estimate parameters for\n",
    "\n",
    "    Returns:\n",
    "        ndarray: (n_oris, ) array of maximum likelihood estimates for lambda for each orientation\n",
    "\n",
    "    \"\"\"\n",
    "\n",
    "    n_trials = spikes.shape[2]\n",
    "\n",
    "    # Set up array for storing maximum likelihood estimators\n",
    "    poisson_lambda_ML = np.zeros(n_ori)\n",
    "\n",
    "    # Loop over orientation\n",
    "    for i_ori in range(0, n_ori):\n",
    "\n",
    "        # TO-DO: compute lambda\n",
    "        poisson_lambda_ML[i_ori] = ...\n",
    "\n",
    "    return poisson_lambda_ML\n",
    "\n",
    "\n",
    "i_neuron = 0\n",
    "poisson_lambda_ML = compute_poisson_MLE(spikes, i_neuron)\n",
    "\n",
    "\n",
    "# Visualize estimates on top of real data\n",
    "visualize_fits(\n",
    "    spikes,\n",
    "    i_neuron,\n",
    "    fit1=gaussian_mu_ML,\n",
    "    label1=\"Gaussian ML estimates\",\n",
    "    fit2=poisson_lambda_ML,\n",
    "    label2=\"Poisson ML estimates\",\n",
    ")"
   ]
  },
  {
   "cell_type": "markdown",
   "metadata": {},
   "source": [
    "### Section 2.3: Computing & comparing likelihoods"
   ]
  },
  {
   "cell_type": "markdown",
   "metadata": {
    "id": "7e4JmBYRFQf-"
   },
   "source": [
    "In the cell below, we compute the Poisson and Gaussian likelihoods given the maximum likelihood estimates you computed above. I divide by the number of trials (so computing the average log-likelihood over trials) so we can compare likelihoods for different numbers of trials more easily.\n",
    "\n",
    "**TO-DO: Why is the Poisson likelihood higher than the Gaussian likelihood? In your write-up, please discuss your answer** \n",
    "\n",
    "Hint: Think about what type of random variables both distributions are defined for. "
   ]
  },
  {
   "cell_type": "code",
   "execution_count": null,
   "metadata": {
    "id": "ntIjR3QmFQf_"
   },
   "outputs": [],
   "source": [
    "def compute_Gaussian_log_likelihood(\n",
    "    spikes, i_neuron, gaussian_mu, gaussian_sigma, bin_width\n",
    "):\n",
    "    \"\"\"Compute Gaussian log likelihood given data and Gaussian parameters\n",
    "\n",
    "    Args:\n",
    "        spikes (ndarray): n_neurons x n_oris x n_trials array of spike counts\n",
    "        i_neuron (scalar): which neuron to estimate parameters for\n",
    "        gaussian_mu (ndarray): array of shape (n_oris,) containing estimate for\n",
    "                               Gaussian mean (mu) for each orientation\n",
    "        gaussian_sigma (ndarray): array of shape (n_oris,) containing estimate for\n",
    "                               Gaussian standard deviation (sigma) for each orientation\n",
    "        bin_width (float): bin length in seconds\n",
    "\n",
    "\n",
    "    Returns:\n",
    "        float: Gaussian log-likelihood across orientations\n",
    "\n",
    "    \"\"\"\n",
    "\n",
    "    # Initialize array to save log likelihood per orientation\n",
    "    ori_log_likelihoods = np.zeros((n_ori,))\n",
    "\n",
    "    # Loop over orientations\n",
    "    for i_ori in range(n_ori):\n",
    "\n",
    "        # Compute log likelihood for this orientation\n",
    "        ori_log_likelihoods[i_ori] = np.mean(\n",
    "            -0.5 * np.log(2 * np.pi * gaussian_sigma[i_ori] ** 2 * bin_width)\n",
    "            - (spikes[i_neuron, i_ori] - gaussian_mu[i_ori] * bin_width) ** 2\n",
    "            / (2 * gaussian_sigma[i_ori] ** 2 * bin_width)\n",
    "        )\n",
    "\n",
    "    return np.mean(ori_log_likelihoods)\n",
    "\n",
    "\n",
    "i_neuron = 0\n",
    "gaussian_mu_ML, gaussian_sigma_ML = compute_gaussian_MLEs(spikes, i_neuron)\n",
    "Gaussian_log_likelihood = compute_Gaussian_log_likelihood(\n",
    "    spikes, i_neuron, gaussian_mu_ML, gaussian_sigma_ML, bin_width\n",
    ")\n",
    "\n",
    "print(f\"The Gaussian log likelihood equals {Gaussian_log_likelihood:.2f}\")"
   ]
  },
  {
   "cell_type": "code",
   "execution_count": null,
   "metadata": {
    "id": "FrTap1kPFQf_"
   },
   "outputs": [],
   "source": [
    "def compute_Poisson_log_likelihood(\n",
    "    spikes, i_neuron, poisson_lambda, bin_width, n_ori=16\n",
    "):\n",
    "    \"\"\"Compute Poisson log likelihood given data and Poisson parameters\n",
    "\n",
    "    Args:\n",
    "        spikes (ndarray): n_neurons x n_oris x n_trials array of spike counts\n",
    "        i_neuron (scalar): which neuron to estimate parameters for\n",
    "        poisson_lambda (ndarray): array of shape (n_oris,) containing estimate for\n",
    "                               Poisson mean (lambda) for each orientation\n",
    "        bin_width (float): bin length in seconds\n",
    "\n",
    "\n",
    "    Returns:\n",
    "        float: Poisson log-likelihood across orientations\n",
    "\n",
    "    \"\"\"\n",
    "\n",
    "    # Get number of trials\n",
    "    n_trials = spikes.shape[2]\n",
    "\n",
    "    # Initialize array to save log likelihood per orientation\n",
    "    ori_log_likelihoods = np.zeros((n_ori,))\n",
    "\n",
    "    # Loop over orientations\n",
    "    for i_ori in range(n_ori):\n",
    "\n",
    "        # Compute log likelihood for this orientation\n",
    "        ori_log_likelihoods[i_ori] = (\n",
    "            np.log(poisson_lambda[i_ori] * bin_width + 1e-6)\n",
    "            * np.sum(spikes[i_neuron, i_ori])\n",
    "            - n_trials * poisson_lambda[i_ori] * bin_width\n",
    "            - np.sum(scipy.special.gammaln(spikes[i_neuron, i_ori] + 1))\n",
    "        )\n",
    "\n",
    "    return np.mean(ori_log_likelihoods) / n_trials\n",
    "\n",
    "\n",
    "i_neuron = 0\n",
    "poisson_lambda_ML = compute_poisson_MLE(spikes, i_neuron)\n",
    "poisson_log_likelihood = compute_Poisson_log_likelihood(\n",
    "    spikes, i_neuron, poisson_lambda_ML, bin_width\n",
    ")\n",
    "\n",
    "print(f\"The Poisson log likelihood equals {poisson_log_likelihood:.2f}\")"
   ]
  },
  {
   "cell_type": "markdown",
   "metadata": {
    "jp-MarkdownHeadingCollapsed": true,
    "tags": []
   },
   "source": [
    "## Section 3: Frequentist model comparison: cross-validation"
   ]
  },
  {
   "cell_type": "markdown",
   "metadata": {
    "id": "tEETO3E4FQf_",
    "jp-MarkdownHeadingCollapsed": true,
    "tags": []
   },
   "source": [
    "Let's stick to our Poisson model and dive deeper. So far, we've learned how to estimate the best $\\lambda_j$ for each orientation $j$. What if it would be better to learn the same $\\lambda$ for pairs of consecutive orientations? For example, we could assume the neuron has the same response to 0 degree gratings and 22.5 degree gratings.\n",
    "\n",
    "Alternatively, we could learn the same $\\lambda$ for every grouping of four orientations, or eight, or so on. This could perform better as we'd have more data for each parameter we're estimating (as we're combining data from 2, 4, or more orientations).\n",
    "\n",
    "Let's try it out! We can control the number of bins we use for the orientation data. So far, we've used 16 bins. We could use 8 bins to group pairs of orientations, 4 bins to group every four orientations, and so on.\n",
    "\n",
    "So how can we ultimately determine which model (i.e. which number of bins) is best? We can split our data into train and test data and evaluate the performance of each model on the test data - this is cross-validation! In order to evaluate the performance of each model, we need a metric of model performance that we can compute. We will use the Poisson likelihood.\n",
    "\n",
    "**TO-DO: Why are we not using an error function like mean squared error? In your write-up, please discuss your answer** \n",
    "\n",
    "Below, we have helper functions to split the data into train and test sets (`split_train_test`) and to fit our model with different number of bins (`varying_bins_MLE`).\n",
    "\n",
    "**TO-DO: Complete the function `compute_train_vs_test_likelihoods` below to compute train and test likelihoods for varying numbers of bins**\n",
    "\n",
    "Hint: you should be able to reuse a function we've already seen"
   ]
  },
  {
   "cell_type": "code",
   "execution_count": null,
   "metadata": {
    "cellView": "form",
    "id": "oCoTNejGFQf_"
   },
   "outputs": [],
   "source": [
    "# @markdown Execute to enable helper functions `split_train_test` and `varying_bins_MLE`\n",
    "def split_train_test(spikes, n_trials=n_trials, train_split=0.8, seed=123):\n",
    "    \"\"\"Split data into train and test segments\n",
    "\n",
    "    Args:\n",
    "        spikes (ndarray): n_neurons x n_oris x n_trials array of spike counts\n",
    "        n_trials (scalar): number of total trials\n",
    "        train_split (scalar): proportion of data assigned to train split\n",
    "        seed (scalar): random seed so you can get the same split back reproducibly\n",
    "\n",
    "\n",
    "    Returns:\n",
    "        ndarray, ndarray: training data in array of shape n_neurons x n_oris, x n train trials,\n",
    "                          testing data in array of shape n_neurons x n_oris, x n test trials,\n",
    "\n",
    "    \"\"\"\n",
    "\n",
    "    # Set random seed\n",
    "    np.random.seed(seed)\n",
    "\n",
    "    # Compute numbers of train and test trials\n",
    "    n_train = int(np.floor(train_split * n_trials))\n",
    "    n_test = n_trials - n_train\n",
    "\n",
    "    # Define trials as train or test\n",
    "    train_inds = np.random.choice(np.arange(n_trials), size=(n_train))\n",
    "    test_inds = np.setdiff1d(np.arange(n_trials), train_inds)\n",
    "\n",
    "    # Extract train and test subsets\n",
    "    spikes_train = spikes[:, :, train_inds]\n",
    "    spikes_test = spikes[:, :, test_inds]\n",
    "\n",
    "    return spikes_train, spikes_test\n",
    "\n",
    "\n",
    "def varying_bins_MLE(spikes, i_neuron, n_bins):\n",
    "    \"\"\"Compute Poisson lambda ML estimates given number of orientation bins\n",
    "\n",
    "    Args:\n",
    "        spikes (ndarray): n_neurons x n_oris x n_trials array of spike counts\n",
    "        i_neuron (scalar): which neuron to estimate parameters for\n",
    "        n_bins (scalar): number of orientation bins\n",
    "\n",
    "    Returns:\n",
    "        ndarray: (n_oris, ) array of maximum likelihood estimates for lambda for each orientation\n",
    "\n",
    "    \"\"\"\n",
    "\n",
    "    # Set up array where each row is a bin and entries\n",
    "    # define orientations within that bin\n",
    "    oris = np.arange(n_ori).reshape((n_bins, -1))\n",
    "\n",
    "    n_oris_per_bin = oris.shape[1]\n",
    "    n_train_trials = spikes[i_neuron].shape[1]\n",
    "\n",
    "    # Set up array for storing maximum likelihood estimators\n",
    "    poisson_lambda_ML = np.zeros(n_ori)\n",
    "\n",
    "    # Loop over bins\n",
    "    for i_ori in range(0, n_ori):\n",
    "\n",
    "        # Get which orientation bin this orientation belongs to\n",
    "        which_bin = np.where(oris == i_ori)[0][0]\n",
    "\n",
    "        # Compute estimate\n",
    "        poisson_lambda_ML[i_ori] = (\n",
    "            1 / (n_train_trials * n_oris_per_bin * bin_width)\n",
    "        ) * np.sum(spikes[i_neuron, oris[which_bin], :])\n",
    "\n",
    "    return poisson_lambda_ML"
   ]
  },
  {
   "cell_type": "code",
   "execution_count": null,
   "metadata": {
    "id": "Q6iO3KeMgdHm"
   },
   "outputs": [],
   "source": [
    "def compute_train_vs_test_likelihoods(spikes, i_neuron, n_bins_options, bin_width):\n",
    "    \"\"\"Compute Poisson log likelihood for train and test data for different orientation binning options\n",
    "\n",
    "    Args:\n",
    "        spikes (ndarray): n_neurons x n_oris x n_trials array of spike counts\n",
    "        i_neuron (scalar): which neuron to estimate parameters for\n",
    "        n_bins_options (ndarray): array containing different number of orientation bins to\n",
    "                  fit and evaluate models for\n",
    "        bin_width (float): bin length in seconds\n",
    "\n",
    "\n",
    "    Returns:\n",
    "        ndarray, ndarray: train log likelihoods for the different bin options,\n",
    "                          test log likelihoods for the different bin options,\n",
    "\n",
    "    \"\"\"\n",
    "\n",
    "    # Divide spikes into train and test\n",
    "    spikes_train, spikes_test = split_train_test(spikes)\n",
    "\n",
    "    # Set up error arrays\n",
    "    train_log_likelihood = np.zeros((len(n_bins_options)))\n",
    "    test_log_likelihood = np.zeros((len(n_bins_options)))\n",
    "\n",
    "    # Loop over number of bins\n",
    "    for i, n_bins in enumerate(n_bins_options):\n",
    "\n",
    "        # Fit model\n",
    "        poisson_lambda_ML = varying_bins_MLE(spikes_train, i_neuron, n_bins)\n",
    "\n",
    "        # Compute training error\n",
    "        train_log_likelihood[i] = ...\n",
    "\n",
    "        # Compute test error\n",
    "        test_log_likelihood[i] = ...\n",
    "\n",
    "    return train_log_likelihood, test_log_likelihood, spikes_train, spikes_test\n",
    "\n",
    "\n",
    "i_neuron = 0\n",
    "n_bins_options = np.array([1, 2, 4, 8, 16])\n",
    "train_log_likelihood, test_log_likelihood, _, _ = compute_train_vs_test_likelihoods(\n",
    "    spikes, i_neuron, n_bins_options, bin_width\n",
    ")\n",
    "\n",
    "# Visualize error\n",
    "fig, ax = plt.subplots(1, 1, figsize=(10, 5))\n",
    "ax.plot(n_bins_options, train_log_likelihood, \"-o\", label=\"Training data\")\n",
    "ax.plot(n_bins_options, test_log_likelihood, \"-o\", label=\"Test data\")\n",
    "ax.legend()\n",
    "ax.set(xlabel=\"Number of bins\", ylabel=\"Poisson log likelihood\");"
   ]
  },
  {
   "cell_type": "markdown",
   "metadata": {
    "id": "dfQH1c91FQgA"
   },
   "source": [
    "See the demo below to visualize the prior plot for different neurons and the model fits for different neurons and varying numbers of bins. "
   ]
  },
  {
   "cell_type": "code",
   "execution_count": null,
   "metadata": {
    "cellView": "form",
    "id": "9NHnXze7FQgA"
   },
   "outputs": [],
   "source": [
    "# @markdown Execute this cell to enable the widget\n",
    "\n",
    "\n",
    "@widgets.interact(\n",
    "    i_neuron=widgets.SelectionSlider(\n",
    "        options=[0, 1, 2, 3, 4, 5], description=\"i_neuron\"\n",
    "    ),\n",
    "    n_bins=widgets.SelectionSlider(options=[1, 2, 4, 8, 16], description=\"n_bins\"),\n",
    ")\n",
    "def plot_estimates(i_neuron, n_bins):\n",
    "\n",
    "    n_bins_options = np.array([1, 2, 4, 8, 16])\n",
    "    (\n",
    "        train_log_likelihood,\n",
    "        test_log_likelihood,\n",
    "        spikes_train,\n",
    "        spikes_test,\n",
    "    ) = compute_train_vs_test_likelihoods(spikes, i_neuron, n_bins_options, bin_width)\n",
    "\n",
    "    # Visualize error\n",
    "    fig, axes = plt.subplots(1, 2, figsize=(15, 7))\n",
    "    axes[0].plot(n_bins_options, train_log_likelihood, \"-o\", label=\"Training data\")\n",
    "    axes[0].plot(n_bins_options, test_log_likelihood, \"-o\", label=\"Test data\")\n",
    "    axes[0].legend()\n",
    "    axes[0].set(\n",
    "        xticks=n_bins_options, xlabel=\"Number of bins\", ylabel=\"Poisson log likelihood\"\n",
    "    )\n",
    "\n",
    "    poisson_lambda_ML = varying_bins_MLE(spikes_train, i_neuron, n_bins)\n",
    "    visualize_fits(\n",
    "        spikes_train,\n",
    "        i_neuron,\n",
    "        spikes_test=spikes_test,\n",
    "        fit1=poisson_lambda_ML,\n",
    "        label1=\"Poisson ML estimates\",\n",
    "        ax=axes[1],\n",
    "    )"
   ]
  },
  {
   "cell_type": "markdown",
   "metadata": {
    "id": "lVlj-KRqFQgA"
   },
   "source": [
    "**TO-DO: Based on the two plots above, discuss the following questions in the write-up:**\n",
    "- Can the training log likelihood ever decrease for increasing number of bins? Why or why not?\n",
    "- For neuron 3, what number of bins leads to the best model according to cross-validation? Describe how you determine this. Compare this to neuron 5\n",
    "\n"
   ]
  },
  {
   "cell_type": "markdown",
   "metadata": {
    "id": "dgljhNknFQgB",
    "jp-MarkdownHeadingCollapsed": true,
    "tags": [],
    "toc-hr-collapsed": true
   },
   "source": [
    "## Section 4: Maximum a-posteriori estimation"
   ]
  },
  {
   "cell_type": "markdown",
   "metadata": {},
   "source": [
    "### Section 4.1: Deriving maximum a-posteriori estimate"
   ]
  },
  {
   "cell_type": "markdown",
   "metadata": {
    "id": "hwForgAzFQgB",
    "jp-MarkdownHeadingCollapsed": true,
    "tags": []
   },
   "source": [
    "Now, let's introduce a prior on the spiking responses to different orientations of gratings. This means that we will introduce prior knowledge about what the spiking responses are likely to be.\n",
    "\n",
    "Remember that we find the \n",
    "maximum-a-posteriori estimate for $\\theta$ by maximizing the log of the posterior probability of the parameter $\\theta$ given the neural responses $y_{j, 1:N_j}$ and stimuli $x_j$: $p( \\theta | y_{j, 1:N_j}, x_j)$. The log of the posterior probablity is equal to the log likelihood plus the log prior:\n",
    "\n",
    "\\begin{align}\n",
    "\\hat{\\theta}_{MAP} &= \\text{argmax$_{\\theta}$  } \\log p( \\theta | y_{j, 1:N_j}, x_j) \\\\\n",
    "&= \\text{argmax$_{\\theta}$  } [\\log p( y_{j, 1:N_j} | x_j,  \\theta) + \\log p(\\theta)] \n",
    "\\end{align}\n",
    "\n",
    "To keep the math tractable, we will use the conjugate prior for the Poisson likelihood, which is the Gamma distribution:\n",
    "\n",
    "\\begin{align}\n",
    "p(\\lambda_j) = Gam(\\lambda_j | \\alpha_j, \\beta_j) = \\frac{\\beta_j^{\\alpha_j}}{\\Gamma(\\alpha_j)}\\lambda_j^{\\alpha_j - 1}e^{-\\beta_j\\lambda_j}\n",
    "\\end{align}\n",
    "with shape $\\alpha_j > 0$ and rate $\\beta_j > 0$. This prior results in the log-posterior:\n",
    "\n",
    "\\begin{align}\n",
    "\\log p(\\lambda_j | y_{j, 1:N_j}, x_j) = -(\\beta_j + N_j\\Delta)\\lambda_j + (\\log\\lambda_j) \\left(\\alpha_j - 1 + \\sum_{n=1}^{N_j}y_{j, n}\\right) + \\text{const...}\n",
    "\\end{align}\n",
    "\n",
    "Taking its derivative with respect to $\\lambda_j$ and setting it to zero results in the MAP estimate:\n",
    "\n",
    "\\begin{align}\n",
    "\\lambda_{j, MAP} &= \\frac{\\alpha_j - 1 + \\sum_{n=1}^{N_j}y_{j,n}}{\\beta_j + N_j\\Delta} \\tag{3}\\\\\n",
    "&= \\frac{\\beta_j}{\\beta_j + N_j\\Delta}\\frac{\\alpha_j - 1}{\\beta_j} + \\frac{N_j\\Delta}{\\beta_j + N_j\\Delta}\\hat{\\lambda}_{j, ML}\n",
    "\\end{align}\n",
    "\n",
    "The second expression shows that the MAP estimate for $\\lambda_j$ is a weighted combination of the prior mode, $(\\alpha_j - 1)/\\beta_j$, and the maximum-likelihood estimate $\\hat{\\lambda}_{j, ML}$. It furthermore illustrates that $\\beta_j$ controls the strength of the prior in terms of numbers of trials.\n",
    "\n",
    "As we have used conjugate priors, the posteriors will have the same distributional form as the priors. This allows us to directly read out the posterior parameters from the above log-posterior.  The posterior $\\lambda_j$ will be Gamma distribution, and is, by the above log-posterior, given by\n",
    "\n",
    "\\begin{align}\n",
    "p(\\lambda_j | y_{j, 1:N_j}) = Gam\\left(\\lambda_j | \\alpha_j + \\sum_{n=1}^{N_j}y_{j, n}, \\beta_j + N_j\\Delta\\right)\n",
    "\\end{align}\n",
    "\n",
    "Note that the mode of this posterior corresponds to $\\hat{\\lambda}_{j, MAP}$, as required.\n",
    "\n",
    "We will assume we have the same prior on every orientation bin, so we can drop the subscript j for $\\alpha$ and $\\beta$. We'll also go back to using 16 bins for the 16 orientations.\n"
   ]
  },
  {
   "cell_type": "markdown",
   "metadata": {
    "id": "4lpplWyzFQgB"
   },
   "source": [
    "### Section 4.2: Computing maximum a-posteriori estimate"
   ]
  },
  {
   "cell_type": "markdown",
   "metadata": {
    "id": "3Dh_25dRFQgB"
   },
   "source": [
    "Let's compute the maximum a posterior estimates for all orientations. \n",
    "\n",
    "**TO-DO: Complete the function `compute_poisson_MAP`, using equation 3**\n"
   ]
  },
  {
   "cell_type": "code",
   "execution_count": null,
   "metadata": {
    "id": "mrZR-me8FQgB"
   },
   "outputs": [],
   "source": [
    "def compute_poisson_MAP(spikes, i_neuron, alpha, beta):\n",
    "    \"\"\"Compute MAP estimate of lambda for Poisson model\n",
    "\n",
    "    Args:\n",
    "        spikes (ndarray): n_neurons x n_oris x n_trials array of spike counts\n",
    "        i_neuron (scalar): which neuron to estimate parameters for\n",
    "        alpha (scalar): parameter of Gamma prior\n",
    "        beta (scalar): parameter of Gamma prior\n",
    "\n",
    "    Returns:\n",
    "        ndarray: (n_oris, ) array of maximum likelihood estimates for lambda for each orientation\n",
    "\n",
    "    \"\"\"\n",
    "\n",
    "    n_trials = spikes.shape[2]\n",
    "\n",
    "    # Set up array for storing estimators\n",
    "    poisson_lambda_MAP = np.zeros(n_ori)\n",
    "\n",
    "    # Loop over orientation\n",
    "    for i_ori in range(0, n_ori):\n",
    "\n",
    "        # TO-DO: compute lambda\n",
    "        poisson_lambda_MAP[i_ori] = ...\n",
    "\n",
    "    return poisson_lambda_MAP\n",
    "\n",
    "\n",
    "i_neuron = 0\n",
    "\n",
    "# Compute MLE\n",
    "poisson_lambda_MLE = compute_poisson_MLE(spikes, i_neuron=0)\n",
    "\n",
    "# Compute MAP\n",
    "poisson_lambda_MAP = compute_poisson_MAP(spikes, i_neuron=0, alpha=10, beta=10)\n",
    "\n",
    "# Visualize\n",
    "visualize_fits(\n",
    "    spikes,\n",
    "    i_neuron,\n",
    "    fit1=poisson_lambda_MLE,\n",
    "    label1=\"Poisson ML estimates\",\n",
    "    fit2=poisson_lambda_MAP,\n",
    "    label2=\"Poisson MAP estimates\",\n",
    ")"
   ]
  },
  {
   "cell_type": "markdown",
   "metadata": {},
   "source": [
    "### Section 4.3: Examining effect of prior"
   ]
  },
  {
   "cell_type": "markdown",
   "metadata": {
    "id": "pIq-eES8FQgC"
   },
   "source": [
    "Play with the demo below to see the prior impact on the posterior for the grating with orientation of 67.5. You can also change the amount of data (number of training trials) used to compute the likelihood and fit the MLE. The MLE is indicated by the dashed blue line and the MAP is indicated by the dashed red line.\n",
    "\n",
    "**TO-DO: Discuss the following in your write-up**\n",
    "- What do $\\alpha$ and $\\beta$ in the Gamma prior of the Poisson model seem to control? \n",
    "- How does location and variance of prior affect the posterior?\n",
    "- How does the amount of data affect the interplay between likelihood, prior, and posterior?\n",
    "- The prior and posterior densities integrate to one (i.e., the areas under the curve sum to one). This does not seem to be the case for the likelihood when plotted over lambda. Why do you think this is the case?"
   ]
  },
  {
   "cell_type": "code",
   "execution_count": null,
   "metadata": {
    "cellView": "form",
    "id": "ODpGpCqGFQgC"
   },
   "outputs": [],
   "source": [
    "# @markdown Execute this cell to enable the widget\n",
    "\n",
    "\n",
    "@widgets.interact(\n",
    "    alpha=widgets.FloatSlider(value=10, min=0, max=100, step=1),\n",
    "    beta=widgets.FloatSlider(value=10, min=1, max=100, step=1),\n",
    "    n_train_trials=widgets.IntSlider(value=40, min=1, max=40, step=1),\n",
    "    continuous_update=False,\n",
    ")\n",
    "def plot_prior_effects(alpha, beta, n_train_trials):\n",
    "\n",
    "    i_ori = 3\n",
    "\n",
    "    lambda_vec = np.arange(0.1, 20, 0.1)\n",
    "\n",
    "    prior = np.exp(\n",
    "        alpha * np.log(beta)\n",
    "        + (alpha - 1) * np.log(lambda_vec)\n",
    "        - beta * lambda_vec\n",
    "        - scipy.special.gammaln(alpha)\n",
    "    )\n",
    "\n",
    "    likelihood = np.exp(\n",
    "        np.sum(\n",
    "            spikes[i_neuron, i_ori, :n_train_trials][:, None]\n",
    "            * np.log(lambda_vec[None, :] * bin_width)\n",
    "            - np.log(\n",
    "                scipy.special.factorial(\n",
    "                    spikes[i_neuron, i_ori, :n_train_trials][:, None]\n",
    "                )\n",
    "            )\n",
    "            - lambda_vec[None, :] * bin_width,\n",
    "            axis=0,\n",
    "        )\n",
    "    )\n",
    "\n",
    "    alpha_posterior = alpha + np.sum(spikes[i_neuron, i_ori, :n_train_trials])\n",
    "    beta_posterior = beta + n_trials * bin_width\n",
    "    posterior = np.exp(\n",
    "        alpha_posterior * np.log(beta_posterior)\n",
    "        + (alpha_posterior - 1) * np.log(lambda_vec)\n",
    "        - beta_posterior * lambda_vec\n",
    "        - scipy.special.gammaln(alpha_posterior)\n",
    "    )\n",
    "\n",
    "    fig, axes = plt.subplots(3, 1, figsize=(7, 7), sharex=True)\n",
    "\n",
    "    axes[0].plot(lambda_vec, prior, \"-r\", label=\"prior\")\n",
    "    axes[0].set(title=\"Prior\")\n",
    "\n",
    "    axes[1].plot(lambda_vec, likelihood, \"-b\", label=\"likelihood\")\n",
    "    MLE = lambda_vec[np.argmax(likelihood)]\n",
    "    axes[1].plot([MLE, MLE], axes[1].get_ylim(), \"--b\")\n",
    "    axes[1].set(title=\"Likelihood\")\n",
    "\n",
    "    axes[2].plot(lambda_vec, posterior, \"-\", color=\"purple\", label=\"posterior\")\n",
    "\n",
    "    MAP = lambda_vec[np.argmax(posterior)]\n",
    "    axes[2].plot([MAP, MAP], axes[2].get_ylim(), \"--\", color=\"purple\")\n",
    "    axes[2].set(title=\"Posterior\")\n",
    "\n",
    "    axes[2].set(xlabel=r\"$\\lambda$ for orientation 67.5\")\n",
    "\n",
    "    plt.tight_layout()"
   ]
  },
  {
   "cell_type": "markdown",
   "metadata": {
    "id": "20i2NpkOFQgD"
   },
   "source": [
    "Let's look at how the estimates for all orientations change with different priors. In the demo below, you can change the variance of the prior. The variance of a gamma distrbution equals $\\alpha/\\beta^2$. To make this more simple, we have prespecified that the mode of the prior on $\\lambda$ equals 4 as that is very close to the mean of the data (`spikes.mean() / bin_width`). So, our prior knowledge is that the spikes per second tends to be around 4. You can also change the number of trials (amount of data) used to compute the MLE.\n",
    "\n",
    "**TO-DO: In your write-up, discuss:**\n",
    "- How does the effect of the prior vary with the variance of the prior?\n",
    "- What value of firing rate are the MAP estimates pulled towards (from the ML estimates)?\n",
    "- Does the prior exert more influence with more or less data? Why might that be?\n"
   ]
  },
  {
   "cell_type": "code",
   "execution_count": null,
   "metadata": {
    "cellView": "form",
    "id": "XXpdKf38FQgD"
   },
   "outputs": [],
   "source": [
    "# @markdown Execute to enable demo\n",
    "style = {\"description_width\": \"initial\"}\n",
    "\n",
    "\n",
    "@widgets.interact(\n",
    "    prior_variance=widgets.FloatSlider(\n",
    "        value=1, min=0.001, max=10, step=0.1, style=style\n",
    "    ),\n",
    "    n_train_trials=widgets.IntSlider(value=40, min=1, max=40, step=1),\n",
    "    continuous_update=False,\n",
    ")\n",
    "def plot_prior_effects(prior_variance, n_train_trials):\n",
    "    prior_mode = 4\n",
    "    lambda_vec = np.arange(0.1, 20, 0.1)\n",
    "\n",
    "    beta = (prior_mode + np.sqrt(prior_mode ** 2 - 4 * prior_variance * -1)) / (\n",
    "        2 * prior_variance\n",
    "    )\n",
    "    alpha = prior_mode * beta + 1\n",
    "\n",
    "    # Compute full prior distribution\n",
    "    prior = np.exp(\n",
    "        alpha * np.log(beta)\n",
    "        + (alpha - 1) * np.log(lambda_vec)\n",
    "        - beta * lambda_vec\n",
    "        - scipy.special.gammaln(alpha)\n",
    "    )\n",
    "\n",
    "    # Compute MLE\n",
    "    poisson_lambda_MLE = compute_poisson_MLE(spikes[:, :, :n_train_trials], i_neuron=0)\n",
    "\n",
    "    # Compute MAP\n",
    "    poisson_lambda_MAP = compute_poisson_MAP(\n",
    "        spikes[:, :, :n_train_trials], i_neuron=0, alpha=alpha, beta=beta\n",
    "    )\n",
    "\n",
    "    fig, axes = plt.subplots(1, 2, figsize=(15, 5))\n",
    "    axes[0].plot(lambda_vec, prior, \"-r\", label=\"prior\")\n",
    "    axes[0].set(title=\"Prior\", xlabel=r\"$\\lambda_j$\", ylabel=\"Prior probability\")\n",
    "\n",
    "    # Visualize\n",
    "    visualize_fits(\n",
    "        spikes[:, :, :n_train_trials],\n",
    "        i_neuron,\n",
    "        fit1=poisson_lambda_MLE,\n",
    "        label1=\"Poisson ML estimates\",\n",
    "        fit2=poisson_lambda_MAP,\n",
    "        label2=\"Poisson MAP estimates\",\n",
    "        ax=axes[1],\n",
    "    )"
   ]
  },
  {
   "cell_type": "markdown",
   "metadata": {
    "id": "CsnpCFw9FQgD"
   },
   "source": [
    "### Section 4.4: Comparing different priors"
   ]
  },
  {
   "cell_type": "markdown",
   "metadata": {
    "id": "YckXybI6FQgD"
   },
   "source": [
    "We now are fitting different models with different priors. We can compare these models using cross-validation, just as we compared different models in Section 3. The only difference is that, previously, different models had different numbers of bins for the orientations, whereas here it's different priors.\n",
    "\n",
    "Let's first compute for a grid of possible $\\alpha$ and $\\beta$ values."
   ]
  },
  {
   "cell_type": "code",
   "execution_count": null,
   "metadata": {
    "cellView": "form",
    "id": "8Sdp6xHhFQgD"
   },
   "outputs": [],
   "source": [
    "# @markdown Execute to compute test log likelihood for various alpha and beta values\n",
    "# Specify neuron\n",
    "i_neuron = 0\n",
    "\n",
    "# Divide spikes into train and test\n",
    "spikes_train, spikes_test = split_train_test(spikes)\n",
    "\n",
    "# Outline alpha/beta options\n",
    "alpha_options = np.arange(0, 20, 1)\n",
    "beta_options = np.arange(1, 20, 1)\n",
    "\n",
    "# Initialize log likelihood arrays\n",
    "train_log_likelihood = np.zeros((len(alpha_options), len(beta_options)))\n",
    "test_log_likelihood = np.zeros((len(alpha_options), len(beta_options)))\n",
    "\n",
    "# Loop over alpha\n",
    "for i_alpha, alpha in enumerate(alpha_options):\n",
    "\n",
    "    # Loop over beta\n",
    "    for i_beta, beta in enumerate(beta_options):\n",
    "\n",
    "        # Compute MAP\n",
    "        poisson_lambda_MAP = compute_poisson_MAP(spikes_train, i_neuron, alpha, beta)\n",
    "\n",
    "        # Compute train log likelihood\n",
    "        train_log_likelihood[i_alpha, i_beta] = compute_Poisson_log_likelihood(\n",
    "            spikes_train, i_neuron, poisson_lambda_MAP, bin_width\n",
    "        )\n",
    "\n",
    "        # Compute test log likelihood\n",
    "        test_log_likelihood[i_alpha, i_beta] = compute_Poisson_log_likelihood(\n",
    "            spikes_test, i_neuron, poisson_lambda_MAP, bin_width\n",
    "        )\n",
    "\n",
    "\n",
    "# Visualize\n",
    "fig, ax = plt.subplots(\n",
    "    1,\n",
    "    1,\n",
    ")\n",
    "im = ax.imshow(test_log_likelihood, origin=\"lower\")\n",
    "ax.set(title=\"Test Log Likelihood\", xlabel=\"beta\", ylabel=\"alpha\")\n",
    "fig.colorbar(im);"
   ]
  },
  {
   "cell_type": "markdown",
   "metadata": {
    "id": "ilZJNSReFQgD"
   },
   "source": [
    "Instead of parameterizing by $\\alpha$ and $\\beta$, let's simplify by looking at performance while varying variance the prior, assuming a mode of 4 (close to the mean of the data). The green horizontal line shows the test error from the MLE estimate."
   ]
  },
  {
   "cell_type": "code",
   "execution_count": null,
   "metadata": {
    "id": "dwat-o1gFQgE"
   },
   "outputs": [],
   "source": [
    "# Specify neuron\n",
    "i_neuron = 0\n",
    "\n",
    "# Divide spikes into train and test\n",
    "spikes_train, spikes_test = split_train_test(spikes)\n",
    "\n",
    "# Compute MLE and corresponding log likelihoods\n",
    "poisson_lambda_ML = compute_poisson_MLE(spikes_train, i_neuron)\n",
    "poisson_train_log_likelihood = compute_Poisson_log_likelihood(\n",
    "    spikes_train, i_neuron, poisson_lambda_ML, bin_width\n",
    ")\n",
    "poisson_test_log_likelihood = compute_Poisson_log_likelihood(\n",
    "    spikes_test, i_neuron, poisson_lambda_ML, bin_width\n",
    ")\n",
    "\n",
    "# Outline prior options\n",
    "variance_options = np.arange(0.1, 5, 0.1)\n",
    "prior_mode = 4\n",
    "\n",
    "# Initialize log likelihood arrays\n",
    "train_log_likelihood = np.zeros((len(variance_options),))\n",
    "test_log_likelihood = np.zeros((len(variance_options),))\n",
    "\n",
    "# Loop over variances\n",
    "for i_variance, prior_variance in enumerate(variance_options):\n",
    "\n",
    "    # Convert mode and variance to alpha/beta\n",
    "    beta = (prior_mode + np.sqrt(prior_mode ** 2 - 4 * prior_variance * -1)) / (\n",
    "        2 * prior_variance\n",
    "    )\n",
    "    alpha = prior_mode * beta + 1\n",
    "\n",
    "    # Compute MAP\n",
    "    poisson_lambda_MAP = compute_poisson_MAP(spikes_train, i_neuron, alpha, beta)\n",
    "\n",
    "    # Compute train log likelihood\n",
    "    train_log_likelihood[i_variance] = compute_Poisson_log_likelihood(\n",
    "        spikes_train, i_neuron, poisson_lambda_MAP, bin_width\n",
    "    )\n",
    "\n",
    "    # Compute test log likelihood\n",
    "    test_log_likelihood[i_variance] = compute_Poisson_log_likelihood(\n",
    "        spikes_test, i_neuron, poisson_lambda_MAP, bin_width\n",
    "    )\n",
    "\n",
    "# Visualize\n",
    "fig, ax = plt.subplots(\n",
    "    1,\n",
    "    1,\n",
    ")\n",
    "ax.plot(variance_options, test_log_likelihood, \"-\", color=\"tab:red\", label=\"MAP\")\n",
    "ax.plot(\n",
    "    variance_options,\n",
    "    [poisson_test_log_likelihood] * len(variance_options),\n",
    "    \"-\",\n",
    "    color=\"tab:green\",\n",
    "    label=\"MLE\",\n",
    ")\n",
    "ax.legend()\n",
    "ax.set(\n",
    "    xlabel=\"Variance of prior\",\n",
    "    ylabel=\"Poisson log likelihood\",\n",
    "    title=\"Test Log Likelihood\",\n",
    ");"
   ]
  },
  {
   "cell_type": "markdown",
   "metadata": {},
   "source": [
    "### Section 4.5: Extending to other neurons & data amounts"
   ]
  },
  {
   "cell_type": "markdown",
   "metadata": {
    "id": "_GJ2HUNAGtSm"
   },
   "source": [
    "So far, we've only looked at the first neuron. In the widget below, select the other neurons to visualize their test log likelihoods over prior variance for a mode of 4, and the MLE and MAP estimates for the best test log likelihood. \n",
    "\n",
    "You can also change the number of trials used as part of the training data (the test data remains the same)."
   ]
  },
  {
   "cell_type": "code",
   "execution_count": null,
   "metadata": {
    "cellView": "form",
    "id": "_xydOUBpHKi3"
   },
   "outputs": [],
   "source": [
    "# @markdown Execute to enable demo\n",
    "prior_mode = 4\n",
    "\n",
    "\n",
    "@widgets.interact(\n",
    "    i_neuron=widgets.IntSlider(value=0, min=0, max=5, step=1),\n",
    "    n_train_trials=widgets.IntSlider(value=32, min=1, max=32, step=1),\n",
    "    continuous_update=False,\n",
    ")\n",
    "def plot_other_neurons(i_neuron, n_train_trials):\n",
    "\n",
    "    # Divide spikes into train and test\n",
    "    spikes_train, spikes_test = split_train_test(spikes)\n",
    "    spikes_train = spikes_train[:, :, :n_train_trials]\n",
    "\n",
    "    poisson_lambda_ML = compute_poisson_MLE(spikes_train, i_neuron)\n",
    "\n",
    "    poisson_train_log_likelihood = compute_Poisson_log_likelihood(\n",
    "        spikes_train, i_neuron, poisson_lambda_ML, bin_width\n",
    "    )\n",
    "\n",
    "    poisson_test_log_likelihood = compute_Poisson_log_likelihood(\n",
    "        spikes_test, i_neuron, poisson_lambda_ML, bin_width\n",
    "    )\n",
    "\n",
    "    variance_options = np.arange(0.1, 50, 0.1)\n",
    "\n",
    "    train_log_likelihood = np.zeros((len(variance_options),))\n",
    "    test_log_likelihood = np.zeros((len(variance_options),))\n",
    "\n",
    "    poisson_lambda_MAP = {}\n",
    "    for i_variance, prior_variance in enumerate(variance_options):\n",
    "\n",
    "        beta = (prior_mode + np.sqrt(prior_mode ** 2 - 4 * prior_variance * -1)) / (\n",
    "            2 * prior_variance\n",
    "        )\n",
    "        alpha = prior_mode * beta + 1\n",
    "\n",
    "        poisson_lambda_MAP[i_variance] = compute_poisson_MAP(\n",
    "            spikes_train, i_neuron, alpha, beta\n",
    "        )\n",
    "\n",
    "        train_log_likelihood[i_variance] = compute_Poisson_log_likelihood(\n",
    "            spikes_train, i_neuron, poisson_lambda_MAP[i_variance], bin_width\n",
    "        )\n",
    "\n",
    "        test_log_likelihood[i_variance] = compute_Poisson_log_likelihood(\n",
    "            spikes_test, i_neuron, poisson_lambda_MAP[i_variance], bin_width\n",
    "        )\n",
    "\n",
    "    # Visualize\n",
    "    fig, axes = plt.subplots(1, 2, figsize=(15, 5))\n",
    "\n",
    "    axes[0].plot(\n",
    "        variance_options, test_log_likelihood, \"-\", color=\"tab:red\", label=\"MAP\"\n",
    "    )\n",
    "    axes[0].plot(\n",
    "        variance_options,\n",
    "        [poisson_test_log_likelihood] * len(variance_options),\n",
    "        \"-\",\n",
    "        color=\"tab:green\",\n",
    "        label=\"MLE\",\n",
    "    )\n",
    "    axes[0].legend()\n",
    "    axes[0].set(\n",
    "        xlabel=\"Variance of prior\",\n",
    "        ylabel=\"Poisson log likelihood\",\n",
    "        title=\"Test Log Likelihood\",\n",
    "    )\n",
    "\n",
    "    best_variance = np.argmax(test_log_likelihood)\n",
    "    visualize_fits(\n",
    "        None,\n",
    "        i_neuron,\n",
    "        spikes_test=spikes_test,\n",
    "        fit1=poisson_lambda_ML,\n",
    "        label1=\"Poisson ML estimates\",\n",
    "        fit2=poisson_lambda_MAP[best_variance],\n",
    "        label2=\"Poisson MAP estimates\",\n",
    "        ax=axes[1],\n",
    "    )\n",
    "\n",
    "    axes[1].set(title=f\"Best prior variance = {variance_options[best_variance]:.2f}\")"
   ]
  },
  {
   "cell_type": "markdown",
   "metadata": {
    "id": "jkSpSQDAFQgE"
   },
   "source": [
    "**TO-DO: In your write-up, discuss:**\n",
    "- Why doesn't the MLE estimate change for different variances of the prior?\n",
    "- With all the training trials (32), does using the prior and MAP estimation always help over the MLE estimation? Does it sometimes help?\n",
    "- With less data (number of training trials), does the prior/MAP estimation help more or less? Why would this be the case?\n",
    "- Is there anything we could change to try and make this prior improve performance more? Why might the original prior\n",
    "be especially unhelpful for neuron 5?\n",
    "- How do you think using a prior relates to regularization?\n",
    "\n"
   ]
  },
  {
   "cell_type": "markdown",
   "metadata": {
    "jp-MarkdownHeadingCollapsed": true,
    "tags": []
   },
   "source": [
    "## Section 5: Bayesian model comparison"
   ]
  },
  {
   "cell_type": "markdown",
   "metadata": {
    "id": "e3Y2i-0_FQgE",
    "jp-MarkdownHeadingCollapsed": true,
    "tags": []
   },
   "source": [
    "So far in this homework, we have compared models using cross-validation. This is a frequentist form of model comparison - let's try some Bayesian model comparisons! Specifically, we can compute the model evidence. **The model evidence is the probability of the data given the model, while marginalizing over the parameters.** We can find it through the integral,\n",
    "\n",
    "\\begin{align}\n",
    "p(y_{j, 1:N_j} | x_j) = \\int p(y_{j, 1:N_j} | x_j, \\theta)p(\\theta)d\\theta\n",
    "\\end{align}\n",
    "where the first term in the integral is the data likelihood, and the second term is the parameter prior. Alternatively, we can observe that, in Bayes' rule for the parameter posterior,\n",
    "\n",
    "\\begin{align}\n",
    "p(\\theta | y_{j, 1:N_j}) = \\frac{p(y_{j, 1:N_j} | x_j, \\theta)p(\\theta)}{p(y_{j, 1:N_j} | x_j)}\n",
    "\\end{align}\n",
    "\n",
    "the model evidence shows up in the denominator, such that\n",
    "\n",
    "\\begin{align}\n",
    "p(y_{j, 1:N_j} | x_j) = \\frac{p(y_{j, 1:N_j} | x_j, \\theta)p(\\theta)}{p(\\theta | y_{j, 1:N_j})}\n",
    "\\end{align}\n",
    "\n",
    "In this expression, $\\theta$ only shows up in the right-hand side, such that it is valid for any $\\theta$. That is, we can choose an arbitrary $\\theta$ to find the correct model evidence. Simple algebra shows that the total log-model evidence across all bins is the sum of the per-bin log-model evidences,\n",
    "\n",
    "\\begin{align}\n",
    "\\log p(Y|X) = \\sum_{j=1}^J \\log p(y_{j, 1:N_j}|x_j)\n",
    "\\end{align}\n",
    "\n",
    "Let's compute this for our Poisson response model. As we already have the parameter posterior, we find the log model evidence through Bayes' rule,\n",
    "\n",
    "\\begin{align}\n",
    "logp(y_{j, 1:N_j} | x_j) &= \\sum_{n=1}^{N_j}\\log Poiss(y_{n, j} | \\lambda_j \\Delta) + log Gam(\\lambda_j | \\alpha_j, \\beta_j) - \\log Gam \\left(\\lambda_j | \\alpha_j + \\sum_{n=1}^{N_j}y_{j,n}, \\beta_j + N_j\\Delta \\right) \\\\\n",
    "\\end{align}\n",
    "\\begin{align}\n",
    "&= \\Delta\\sum_{n=1}^{N_j}y_{j,n} - \\sum_{n=1}^{N_j}\\log y_{j,n}! + \\alpha_jlog\\beta_j - \\log \\Gamma(\\alpha_j) - \\left( \\alpha_j + \\sum_{j=1}^{N_j}y_{j,n} \\right) \\log(\\beta_j + N_j\\Delta) + \\log \\Gamma \\left( \\alpha_j + \\sum_{n=1}^{N_j}y_{j,n} \\right)\n",
    "\\end{align}\n",
    "\n",
    "where the resulting expression is independent of $\\lambda_j$, as expected.\n",
    "\n",
    "We would like to compute the _total_ log-model evidence across all orientations, which is the sum of the per-orientation log-model evidences:\n",
    "\n",
    "\\begin{equation}\n",
    "    \\log p \\left( Y | X \\right) = \\sum_{j=1}^J \\log p \\left( y_{j,1:N_j} | x_j \\right) .\n",
    "\\end{equation}\n",
    "\n",
    "See the cell below for a function that computes model evidence given the data, and alpha and beta of the prior."
   ]
  },
  {
   "cell_type": "code",
   "execution_count": null,
   "metadata": {
    "id": "qe5ci2qVFQgE"
   },
   "outputs": [],
   "source": [
    "def compute_model_evidence(spikes, i_neuron, alpha, beta):\n",
    "    \"\"\"Compute model evidence for Poisson model\n",
    "\n",
    "    Args:\n",
    "        spikes (ndarray): n_neurons x n_oris x n_trials array of spike counts\n",
    "        i_neuron (scalar): which neuron to estimate parameters for\n",
    "        alpha (scalar): parameter of Gamma prior\n",
    "        beta (scalar): parameter of Gamma prior\n",
    "\n",
    "    Returns:\n",
    "        ndarray: (n_oris, ) array of maximum likelihood estimates for lambda for each orientation\n",
    "\n",
    "    \"\"\"\n",
    "    n_trials = spikes.shape[2]\n",
    "\n",
    "    # Set up array for storing log probability for each orientation\n",
    "    all_model_evidence = np.zeros(n_ori)\n",
    "\n",
    "    # Loop over orientation\n",
    "    for i_ori in range(0, n_ori):\n",
    "\n",
    "        # Compute model evidence for this bin\n",
    "        all_model_evidence[i_ori] = (\n",
    "            bin_width * np.sum(spikes[i_neuron, i_ori])\n",
    "            - np.sum(scipy.special.gammaln(spikes[i_neuron, i_ori] + 1))\n",
    "            + alpha * np.log(beta)\n",
    "            - scipy.special.gammaln(alpha)\n",
    "            - (alpha + np.sum(spikes[i_neuron, i_ori]))\n",
    "            * np.log(beta + n_trials * bin_width)\n",
    "            + scipy.special.gammaln(alpha + np.sum(spikes[i_neuron, i_ori]))\n",
    "        )\n",
    "\n",
    "    return np.sum(all_model_evidence)"
   ]
  },
  {
   "cell_type": "markdown",
   "metadata": {
    "id": "MBDkWtoFeJIb"
   },
   "source": [
    "Let's use this function to compare different priors: specifically, different prior variances and prior modes. We'll compare the model evidence for different variances with the cross-validation test log likelihood. In other words, we'll look at Bayesian model comparison vs frequentist model comparison"
   ]
  },
  {
   "cell_type": "code",
   "execution_count": null,
   "metadata": {
    "cellView": "form",
    "id": "e4IFkyXpenYX"
   },
   "outputs": [],
   "source": [
    "# @markdown Execute cell to enable demo\n",
    "@widgets.interact(\n",
    "    i_neuron=widgets.IntSlider(value=0, min=0, max=5, step=1), continuous_update=False\n",
    ")\n",
    "def plot_other_neurons(i_neuron):\n",
    "\n",
    "    # Divide spikes into train and test\n",
    "    spikes_train, spikes_test = split_train_test(spikes)\n",
    "\n",
    "    variance_options = np.arange(0.1, 50, 0.5)\n",
    "    mode_options = np.arange(0, 6, 1)\n",
    "\n",
    "    train_log_likelihood = np.zeros((len(variance_options), len(mode_options)))\n",
    "    test_log_likelihood = np.zeros((len(variance_options), len(mode_options)))\n",
    "    model_evidence = np.zeros((len(variance_options), len(mode_options)))\n",
    "\n",
    "    poisson_lambda_MAP = {}\n",
    "    for i_variance, prior_variance in enumerate(variance_options):\n",
    "\n",
    "        for i_mode, prior_mode in enumerate(mode_options):\n",
    "            beta = (prior_mode + np.sqrt(prior_mode ** 2 - 4 * prior_variance * -1)) / (\n",
    "                2 * prior_variance\n",
    "            )\n",
    "            alpha = prior_mode * beta + 1\n",
    "\n",
    "            poisson_lambda_MAP[(i_variance, i_mode)] = compute_poisson_MAP(\n",
    "                spikes_train, i_neuron, alpha, beta\n",
    "            )\n",
    "\n",
    "            train_log_likelihood[i_variance, i_mode] = compute_Poisson_log_likelihood(\n",
    "                spikes_train,\n",
    "                i_neuron,\n",
    "                poisson_lambda_MAP[(i_variance, i_mode)],\n",
    "                bin_width,\n",
    "            )\n",
    "            test_log_likelihood[i_variance, i_mode] = compute_Poisson_log_likelihood(\n",
    "                spikes_test,\n",
    "                i_neuron,\n",
    "                poisson_lambda_MAP[(i_variance, i_mode)],\n",
    "                bin_width,\n",
    "            )\n",
    "\n",
    "            model_evidence[i_variance, i_mode] = compute_model_evidence(\n",
    "                spikes, i_neuron, alpha, beta\n",
    "            )\n",
    "\n",
    "    # Visualize\n",
    "    fig, axes = plt.subplots(1, 2, figsize=(20, 10))\n",
    "\n",
    "    axes[0].plot(variance_options, test_log_likelihood)\n",
    "    axes[0].legend(mode_options, title=\"Prior mode\")\n",
    "    r, c = np.where(test_log_likelihood == np.max(test_log_likelihood))\n",
    "    axes[0].set(\n",
    "        ylim=[test_log_likelihood[:, 0].min(), test_log_likelihood.max()],\n",
    "        xlabel=\"Variance of prior\",\n",
    "        ylabel=\"Poisson log likelihood\",\n",
    "        title=f\"Test Log Likelihood, \\n best mode = {mode_options[c[0]]:.2f}, \\n best variance = {variance_options[r[0]]:.2f}\",\n",
    "    )\n",
    "\n",
    "    axes[1].plot(variance_options, model_evidence)\n",
    "    axes[1].legend(mode_options, title=\"Prior mode\")\n",
    "    r, c = np.where(model_evidence == np.max(model_evidence))\n",
    "    axes[1].set(\n",
    "        ylim=[model_evidence[:, 0].min(), model_evidence.max()],\n",
    "        xlabel=\"Variance of prior\",\n",
    "        ylabel=\"log Model evidence\",\n",
    "        title=f\"Model evidence, \\n best mode = {mode_options[c[0]]:.2f}, \\n best variance = {variance_options[r[0]]:.2f}\",\n",
    "    );"
   ]
  },
  {
   "cell_type": "markdown",
   "metadata": {
    "id": "uUbySDOBjnuO"
   },
   "source": [
    "**TO-DO: In your write-up, discuss:**\n",
    "- Do model evidence and cross-validation always pick the same model as best?\n",
    "- Why might they pick different models if they do?\n",
    "- What assumptions, if any, does either approach make about the data?\n",
    "- How data-efficient is either approach?"
   ]
  }
 ],
 "metadata": {
  "colab": {
   "collapsed_sections": [],
   "name": "ProbNeuralModels_Exercise1_Student.ipynb",
   "provenance": []
  },
  "kernelspec": {
   "display_name": "Python 3 (ipykernel)",
   "language": "python",
   "name": "python3"
  },
  "language_info": {
   "codemirror_mode": {
    "name": "ipython",
    "version": 3
   },
   "file_extension": ".py",
   "mimetype": "text/x-python",
   "name": "python",
   "nbconvert_exporter": "python",
   "pygments_lexer": "ipython3",
   "version": "3.9.10"
  }
 },
 "nbformat": 4,
 "nbformat_minor": 4
}
